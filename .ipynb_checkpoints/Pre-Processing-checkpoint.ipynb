{
 "cells": [
  {
   "cell_type": "code",
   "execution_count": 1,
   "metadata": {
    "collapsed": true
   },
   "outputs": [],
   "source": [
    "import numpy as np\n",
    "import pandas as pd\n",
    "from sklearn.cross_validation import StratifiedKFold\n",
    "from sklearn.grid_search import GridSearchCV\n",
    "from sklearn.ensemble import RandomForestClassifier\n",
    "from sklearn.tree import DecisionTreeClassifier\n",
    "from sklearn.linear_model import Lasso\n",
    "from sklearn.preprocessing import MinMaxScaler, StandardScaler\n",
    "from sklearn.metrics import roc_auc_score\n",
    "import matplotlib.pyplot as plt\n",
    "%matplotlib inline\n",
    "from sklearn import metrics"
   ]
  },
  {
   "cell_type": "code",
   "execution_count": 2,
   "metadata": {
    "collapsed": true
   },
   "outputs": [],
   "source": [
    "#Chargement du fichier train.csv dans le dataframe df, n'oubliez pas de modifier le chemin \n",
    "#pour tenir compte de l'endroit ou se trouve votre fichier\n",
    "df = pd.read_csv(\"train.csv\")"
   ]
  },
  {
   "cell_type": "code",
   "execution_count": 3,
   "metadata": {
    "collapsed": false
   },
   "outputs": [
    {
     "data": {
      "text/html": [
       "<div>\n",
       "<table border=\"1\" class=\"dataframe\">\n",
       "  <thead>\n",
       "    <tr style=\"text-align: right;\">\n",
       "      <th></th>\n",
       "      <th>ACTION</th>\n",
       "      <th>RESOURCE</th>\n",
       "      <th>MGR_ID</th>\n",
       "      <th>ROLE_ROLLUP_1</th>\n",
       "      <th>ROLE_ROLLUP_2</th>\n",
       "      <th>ROLE_DEPTNAME</th>\n",
       "      <th>ROLE_TITLE</th>\n",
       "      <th>ROLE_FAMILY_DESC</th>\n",
       "      <th>ROLE_FAMILY</th>\n",
       "      <th>ROLE_CODE</th>\n",
       "    </tr>\n",
       "  </thead>\n",
       "  <tbody>\n",
       "    <tr>\n",
       "      <th>0</th>\n",
       "      <td>1</td>\n",
       "      <td>39353</td>\n",
       "      <td>85475</td>\n",
       "      <td>117961</td>\n",
       "      <td>118300</td>\n",
       "      <td>123472</td>\n",
       "      <td>117905</td>\n",
       "      <td>117906</td>\n",
       "      <td>290919</td>\n",
       "      <td>117908</td>\n",
       "    </tr>\n",
       "    <tr>\n",
       "      <th>1</th>\n",
       "      <td>1</td>\n",
       "      <td>17183</td>\n",
       "      <td>1540</td>\n",
       "      <td>117961</td>\n",
       "      <td>118343</td>\n",
       "      <td>123125</td>\n",
       "      <td>118536</td>\n",
       "      <td>118536</td>\n",
       "      <td>308574</td>\n",
       "      <td>118539</td>\n",
       "    </tr>\n",
       "    <tr>\n",
       "      <th>2</th>\n",
       "      <td>1</td>\n",
       "      <td>36724</td>\n",
       "      <td>14457</td>\n",
       "      <td>118219</td>\n",
       "      <td>118220</td>\n",
       "      <td>117884</td>\n",
       "      <td>117879</td>\n",
       "      <td>267952</td>\n",
       "      <td>19721</td>\n",
       "      <td>117880</td>\n",
       "    </tr>\n",
       "    <tr>\n",
       "      <th>3</th>\n",
       "      <td>1</td>\n",
       "      <td>36135</td>\n",
       "      <td>5396</td>\n",
       "      <td>117961</td>\n",
       "      <td>118343</td>\n",
       "      <td>119993</td>\n",
       "      <td>118321</td>\n",
       "      <td>240983</td>\n",
       "      <td>290919</td>\n",
       "      <td>118322</td>\n",
       "    </tr>\n",
       "    <tr>\n",
       "      <th>4</th>\n",
       "      <td>1</td>\n",
       "      <td>42680</td>\n",
       "      <td>5905</td>\n",
       "      <td>117929</td>\n",
       "      <td>117930</td>\n",
       "      <td>119569</td>\n",
       "      <td>119323</td>\n",
       "      <td>123932</td>\n",
       "      <td>19793</td>\n",
       "      <td>119325</td>\n",
       "    </tr>\n",
       "    <tr>\n",
       "      <th>5</th>\n",
       "      <td>0</td>\n",
       "      <td>45333</td>\n",
       "      <td>14561</td>\n",
       "      <td>117951</td>\n",
       "      <td>117952</td>\n",
       "      <td>118008</td>\n",
       "      <td>118568</td>\n",
       "      <td>118568</td>\n",
       "      <td>19721</td>\n",
       "      <td>118570</td>\n",
       "    </tr>\n",
       "    <tr>\n",
       "      <th>6</th>\n",
       "      <td>1</td>\n",
       "      <td>25993</td>\n",
       "      <td>17227</td>\n",
       "      <td>117961</td>\n",
       "      <td>118343</td>\n",
       "      <td>123476</td>\n",
       "      <td>118980</td>\n",
       "      <td>301534</td>\n",
       "      <td>118295</td>\n",
       "      <td>118982</td>\n",
       "    </tr>\n",
       "    <tr>\n",
       "      <th>7</th>\n",
       "      <td>1</td>\n",
       "      <td>19666</td>\n",
       "      <td>4209</td>\n",
       "      <td>117961</td>\n",
       "      <td>117969</td>\n",
       "      <td>118910</td>\n",
       "      <td>126820</td>\n",
       "      <td>269034</td>\n",
       "      <td>118638</td>\n",
       "      <td>126822</td>\n",
       "    </tr>\n",
       "    <tr>\n",
       "      <th>8</th>\n",
       "      <td>1</td>\n",
       "      <td>31246</td>\n",
       "      <td>783</td>\n",
       "      <td>117961</td>\n",
       "      <td>118413</td>\n",
       "      <td>120584</td>\n",
       "      <td>128230</td>\n",
       "      <td>302830</td>\n",
       "      <td>4673</td>\n",
       "      <td>128231</td>\n",
       "    </tr>\n",
       "    <tr>\n",
       "      <th>9</th>\n",
       "      <td>1</td>\n",
       "      <td>78766</td>\n",
       "      <td>56683</td>\n",
       "      <td>118079</td>\n",
       "      <td>118080</td>\n",
       "      <td>117878</td>\n",
       "      <td>117879</td>\n",
       "      <td>304519</td>\n",
       "      <td>19721</td>\n",
       "      <td>117880</td>\n",
       "    </tr>\n",
       "    <tr>\n",
       "      <th>10</th>\n",
       "      <td>1</td>\n",
       "      <td>4675</td>\n",
       "      <td>3005</td>\n",
       "      <td>117961</td>\n",
       "      <td>118413</td>\n",
       "      <td>118481</td>\n",
       "      <td>118784</td>\n",
       "      <td>117906</td>\n",
       "      <td>290919</td>\n",
       "      <td>118786</td>\n",
       "    </tr>\n",
       "    <tr>\n",
       "      <th>11</th>\n",
       "      <td>1</td>\n",
       "      <td>15030</td>\n",
       "      <td>94005</td>\n",
       "      <td>117902</td>\n",
       "      <td>118041</td>\n",
       "      <td>119238</td>\n",
       "      <td>119093</td>\n",
       "      <td>138522</td>\n",
       "      <td>119095</td>\n",
       "      <td>119096</td>\n",
       "    </tr>\n",
       "    <tr>\n",
       "      <th>12</th>\n",
       "      <td>1</td>\n",
       "      <td>79954</td>\n",
       "      <td>46608</td>\n",
       "      <td>118315</td>\n",
       "      <td>118463</td>\n",
       "      <td>122636</td>\n",
       "      <td>120773</td>\n",
       "      <td>123148</td>\n",
       "      <td>118960</td>\n",
       "      <td>120774</td>\n",
       "    </tr>\n",
       "    <tr>\n",
       "      <th>13</th>\n",
       "      <td>1</td>\n",
       "      <td>4675</td>\n",
       "      <td>50997</td>\n",
       "      <td>91261</td>\n",
       "      <td>118026</td>\n",
       "      <td>118202</td>\n",
       "      <td>119962</td>\n",
       "      <td>168365</td>\n",
       "      <td>118205</td>\n",
       "      <td>119964</td>\n",
       "    </tr>\n",
       "    <tr>\n",
       "      <th>14</th>\n",
       "      <td>1</td>\n",
       "      <td>95836</td>\n",
       "      <td>18181</td>\n",
       "      <td>117961</td>\n",
       "      <td>118343</td>\n",
       "      <td>118514</td>\n",
       "      <td>118321</td>\n",
       "      <td>117906</td>\n",
       "      <td>290919</td>\n",
       "      <td>118322</td>\n",
       "    </tr>\n",
       "    <tr>\n",
       "      <th>15</th>\n",
       "      <td>1</td>\n",
       "      <td>19484</td>\n",
       "      <td>6657</td>\n",
       "      <td>118219</td>\n",
       "      <td>118220</td>\n",
       "      <td>118221</td>\n",
       "      <td>117885</td>\n",
       "      <td>117886</td>\n",
       "      <td>117887</td>\n",
       "      <td>117888</td>\n",
       "    </tr>\n",
       "    <tr>\n",
       "      <th>16</th>\n",
       "      <td>1</td>\n",
       "      <td>114267</td>\n",
       "      <td>23136</td>\n",
       "      <td>117961</td>\n",
       "      <td>118052</td>\n",
       "      <td>119742</td>\n",
       "      <td>118321</td>\n",
       "      <td>117906</td>\n",
       "      <td>290919</td>\n",
       "      <td>118322</td>\n",
       "    </tr>\n",
       "    <tr>\n",
       "      <th>17</th>\n",
       "      <td>1</td>\n",
       "      <td>35197</td>\n",
       "      <td>57715</td>\n",
       "      <td>117961</td>\n",
       "      <td>118446</td>\n",
       "      <td>118701</td>\n",
       "      <td>118702</td>\n",
       "      <td>118703</td>\n",
       "      <td>118704</td>\n",
       "      <td>118705</td>\n",
       "    </tr>\n",
       "    <tr>\n",
       "      <th>18</th>\n",
       "      <td>1</td>\n",
       "      <td>86316</td>\n",
       "      <td>7002</td>\n",
       "      <td>117961</td>\n",
       "      <td>118343</td>\n",
       "      <td>123125</td>\n",
       "      <td>118278</td>\n",
       "      <td>132715</td>\n",
       "      <td>290919</td>\n",
       "      <td>118279</td>\n",
       "    </tr>\n",
       "    <tr>\n",
       "      <th>19</th>\n",
       "      <td>1</td>\n",
       "      <td>27785</td>\n",
       "      <td>5636</td>\n",
       "      <td>117961</td>\n",
       "      <td>118413</td>\n",
       "      <td>122007</td>\n",
       "      <td>118321</td>\n",
       "      <td>117906</td>\n",
       "      <td>290919</td>\n",
       "      <td>118322</td>\n",
       "    </tr>\n",
       "  </tbody>\n",
       "</table>\n",
       "</div>"
      ],
      "text/plain": [
       "    ACTION  RESOURCE  MGR_ID  ROLE_ROLLUP_1  ROLE_ROLLUP_2  ROLE_DEPTNAME  \\\n",
       "0        1     39353   85475         117961         118300         123472   \n",
       "1        1     17183    1540         117961         118343         123125   \n",
       "2        1     36724   14457         118219         118220         117884   \n",
       "3        1     36135    5396         117961         118343         119993   \n",
       "4        1     42680    5905         117929         117930         119569   \n",
       "5        0     45333   14561         117951         117952         118008   \n",
       "6        1     25993   17227         117961         118343         123476   \n",
       "7        1     19666    4209         117961         117969         118910   \n",
       "8        1     31246     783         117961         118413         120584   \n",
       "9        1     78766   56683         118079         118080         117878   \n",
       "10       1      4675    3005         117961         118413         118481   \n",
       "11       1     15030   94005         117902         118041         119238   \n",
       "12       1     79954   46608         118315         118463         122636   \n",
       "13       1      4675   50997          91261         118026         118202   \n",
       "14       1     95836   18181         117961         118343         118514   \n",
       "15       1     19484    6657         118219         118220         118221   \n",
       "16       1    114267   23136         117961         118052         119742   \n",
       "17       1     35197   57715         117961         118446         118701   \n",
       "18       1     86316    7002         117961         118343         123125   \n",
       "19       1     27785    5636         117961         118413         122007   \n",
       "\n",
       "    ROLE_TITLE  ROLE_FAMILY_DESC  ROLE_FAMILY  ROLE_CODE  \n",
       "0       117905            117906       290919     117908  \n",
       "1       118536            118536       308574     118539  \n",
       "2       117879            267952        19721     117880  \n",
       "3       118321            240983       290919     118322  \n",
       "4       119323            123932        19793     119325  \n",
       "5       118568            118568        19721     118570  \n",
       "6       118980            301534       118295     118982  \n",
       "7       126820            269034       118638     126822  \n",
       "8       128230            302830         4673     128231  \n",
       "9       117879            304519        19721     117880  \n",
       "10      118784            117906       290919     118786  \n",
       "11      119093            138522       119095     119096  \n",
       "12      120773            123148       118960     120774  \n",
       "13      119962            168365       118205     119964  \n",
       "14      118321            117906       290919     118322  \n",
       "15      117885            117886       117887     117888  \n",
       "16      118321            117906       290919     118322  \n",
       "17      118702            118703       118704     118705  \n",
       "18      118278            132715       290919     118279  \n",
       "19      118321            117906       290919     118322  "
      ]
     },
     "execution_count": 3,
     "metadata": {},
     "output_type": "execute_result"
    }
   ],
   "source": [
    "df.head(20)"
   ]
  },
  {
   "cell_type": "code",
   "execution_count": 4,
   "metadata": {
    "collapsed": false
   },
   "outputs": [
    {
     "data": {
      "text/html": [
       "<div>\n",
       "<table border=\"1\" class=\"dataframe\">\n",
       "  <thead>\n",
       "    <tr style=\"text-align: right;\">\n",
       "      <th></th>\n",
       "      <th>ACTION</th>\n",
       "      <th>Percentage</th>\n",
       "    </tr>\n",
       "  </thead>\n",
       "  <tbody>\n",
       "    <tr>\n",
       "      <th>1</th>\n",
       "      <td>30872</td>\n",
       "      <td>94.210992</td>\n",
       "    </tr>\n",
       "    <tr>\n",
       "      <th>0</th>\n",
       "      <td>1897</td>\n",
       "      <td>5.789008</td>\n",
       "    </tr>\n",
       "  </tbody>\n",
       "</table>\n",
       "</div>"
      ],
      "text/plain": [
       "   ACTION  Percentage\n",
       "1   30872   94.210992\n",
       "0    1897    5.789008"
      ]
     },
     "execution_count": 4,
     "metadata": {},
     "output_type": "execute_result"
    }
   ],
   "source": [
    "# happy customers have TARGET==0, unhappy custormers have TARGET==1\n",
    "# A little less then 4% are unhappy => unbalanced dataset\n",
    "data = pd.DataFrame(df.ACTION.value_counts())\n",
    "data['Percentage'] = 100*data['ACTION']/df.shape[0]\n",
    "data"
   ]
  },
  {
   "cell_type": "markdown",
   "metadata": {},
   "source": [
    "<h2><span style=\"color: #3366ff;\">Nettoyage des données</span></h2>"
   ]
  },
  {
   "cell_type": "markdown",
   "metadata": {},
   "source": [
    "<h3><span style=\"color: #03660f;\"> Identifier les colonnes inutiles</span></h3>"
   ]
  },
  {
   "cell_type": "code",
   "execution_count": 5,
   "metadata": {
    "collapsed": false
   },
   "outputs": [
    {
     "name": "stdout",
     "output_type": "stream",
     "text": [
      "Le nombre des colonnes inutiles est :  0\n",
      "done\n"
     ]
    }
   ],
   "source": [
    "#Identifier les colonnes inutiles (dont l'écart type est null)\n",
    "\n",
    "Bruit=[]\n",
    "for i in xrange(len(df.columns.values)):\n",
    "    #pour chaque colonne \"df[x]\"\n",
    "    if np.std(df[df.columns.values[i]]) == 0.0:\n",
    "        #on recupère la liste des noms des colonnes \"df.columns.values\" et on la parcours\n",
    "        Bruit.append(df.columns.values[i])\n",
    "print 'Le nombre des colonnes inutiles est : ',len(Bruit)\n",
    "\n",
    "#Les colonnes dont std = 0 , on va donc les supprimer parcequ'il est \n",
    "#n'apportera pas grand chose pour l'apprentissage (c'est que du bruit)\n",
    "\n",
    "for i in xrange(len(Bruit)):\n",
    "    df.drop(Bruit[i], axis=1, inplace=True)\n",
    "\n",
    "print \"done\""
   ]
  },
  {
   "cell_type": "code",
   "execution_count": 6,
   "metadata": {
    "collapsed": true
   },
   "outputs": [],
   "source": [
    "def resemblance(column1 , column2):\n",
    "    a = np.array(df[column1])\n",
    "    b = np.array(df[column2])\n",
    "    return ((a==b).sum() * 1.0)/len(a)"
   ]
  },
  {
   "cell_type": "code",
   "execution_count": 7,
   "metadata": {
    "collapsed": false
   },
   "outputs": [
    {
     "name": "stdout",
     "output_type": "stream",
     "text": [
      "Nombre des colonnes qui se ressemblent :  0\n",
      "..... droped\n",
      "done\n"
     ]
    }
   ],
   "source": [
    "#la liste des colonnes\n",
    "Liste=df.columns.values[1:]\n",
    "seuil=1.0\n",
    "\n",
    "resemble=[]\n",
    "jump = []\n",
    "for i in xrange(len(Liste)):\n",
    "    if i not in jump:\n",
    "        for j in xrange(len(Liste)):\n",
    "            if i!=j and resemblance(Liste[i], Liste[j]) >= seuil:\n",
    "                if j not in jump:\n",
    "                    #resemble.append(Liste[j])\n",
    "                    jump.append(j)\n",
    "    else:\n",
    "        tempo=[]\n",
    "        for j in xrange(len(Liste)):\n",
    "            if i!=j and resemblance(Liste[i], Liste[j]) >= seuil:\n",
    "                if j not in jump:\n",
    "                    tempo.append(j)\n",
    "        if len(tempo) >= 2:\n",
    "            #resemble.extend(tempo[:-1])\n",
    "            jump.extend(tempo[:-1])\n",
    "print \"Nombre des colonnes qui se ressemblent : \", len(jump)\n",
    "\n",
    "def double(jump):\n",
    "    proc = []\n",
    "    doublons = []\n",
    "    for r in jump:\n",
    "        if r not in proc:\n",
    "            proc.append(r)\n",
    "        else:\n",
    "            doublons.append(r)\n",
    "    return doublons\n",
    "\n",
    "#Delete les colonnes dont les valeurs se ressemblent\n",
    "if len(double(jump))==0:\n",
    "    for i in xrange(len(jump)):\n",
    "        df.drop([Liste[jump[i]]], axis=1, inplace=True)\n",
    "        resemble.append(Liste[jump[i]])\n",
    "    print \"..... droped\"\n",
    "else:\n",
    "    print \"ERROR...\"\n",
    "\n",
    "\n",
    "print \"done\""
   ]
  },
  {
   "cell_type": "code",
   "execution_count": 8,
   "metadata": {
    "collapsed": false
   },
   "outputs": [
    {
     "data": {
      "text/html": [
       "<div>\n",
       "<table border=\"1\" class=\"dataframe\">\n",
       "  <thead>\n",
       "    <tr style=\"text-align: right;\">\n",
       "      <th></th>\n",
       "      <th>attribute pair</th>\n",
       "      <th>correlation</th>\n",
       "    </tr>\n",
       "  </thead>\n",
       "  <tbody>\n",
       "    <tr>\n",
       "      <th>1</th>\n",
       "      <td>(ROLE_FAMILY, ROLE_FAMILY_DESC)</td>\n",
       "      <td>-0.180576</td>\n",
       "    </tr>\n",
       "    <tr>\n",
       "      <th>3</th>\n",
       "      <td>(ROLE_FAMILY_DESC, ROLE_TITLE)</td>\n",
       "      <td>0.170687</td>\n",
       "    </tr>\n",
       "    <tr>\n",
       "      <th>2</th>\n",
       "      <td>(ROLE_CODE, ROLE_TITLE)</td>\n",
       "      <td>0.155918</td>\n",
       "    </tr>\n",
       "    <tr>\n",
       "      <th>0</th>\n",
       "      <td>(ROLE_CODE, ROLE_FAMILY)</td>\n",
       "      <td>-0.148617</td>\n",
       "    </tr>\n",
       "    <tr>\n",
       "      <th>4</th>\n",
       "      <td>(MGR_ID, ROLE_FAMILY)</td>\n",
       "      <td>-0.118315</td>\n",
       "    </tr>\n",
       "  </tbody>\n",
       "</table>\n",
       "</div>"
      ],
      "text/plain": [
       "                    attribute pair  correlation\n",
       "1  (ROLE_FAMILY, ROLE_FAMILY_DESC)    -0.180576\n",
       "3   (ROLE_FAMILY_DESC, ROLE_TITLE)     0.170687\n",
       "2          (ROLE_CODE, ROLE_TITLE)     0.155918\n",
       "0         (ROLE_CODE, ROLE_FAMILY)    -0.148617\n",
       "4            (MGR_ID, ROLE_FAMILY)    -0.118315"
      ]
     },
     "execution_count": 8,
     "metadata": {},
     "output_type": "execute_result"
    }
   ],
   "source": [
    "import seaborn as sns\n",
    "cor_mat = df.iloc[1:,:].corr()\n",
    "\n",
    "# only important correlations and not auto-correlations\n",
    "threshold = 0.1\n",
    "important_corrs = (cor_mat[abs(cor_mat) > threshold][cor_mat != 1.0]) \\\n",
    "    .unstack().dropna().to_dict()\n",
    "unique_important_corrs = pd.DataFrame(\n",
    "    list(set([(tuple(sorted(key)), important_corrs[key]) \\\n",
    "    for key in important_corrs])), columns=['attribute pair', 'correlation'])\n",
    "# sorted by absolute value\n",
    "unique_important_corrs = unique_important_corrs.ix[\n",
    "    abs(unique_important_corrs['correlation']).argsort()[::-1]]\n",
    "unique_important_corrs"
   ]
  },
  {
   "cell_type": "code",
   "execution_count": 9,
   "metadata": {
    "collapsed": false
   },
   "outputs": [
    {
     "name": "stdout",
     "output_type": "stream",
     "text": [
      " Le nombre des variables restante est:  10\n"
     ]
    }
   ],
   "source": [
    "print \" Le nombre des variables restante est: \",len(df.columns.values)"
   ]
  },
  {
   "cell_type": "markdown",
   "metadata": {
    "collapsed": false
   },
   "source": [
    "<br/><br/><br/>\n",
    "##### cor_mat = df.iloc[:,:-1].corr()\n",
    "\n",
    "f, ax = plt.subplots(figsize=(15, 12))\n",
    "##### Draw the heatmap with the mask and correct aspect ratio\n",
    "sns.heatmap(cor_mat,linewidths=.5, ax=ax);\n",
    "\n",
    "##### only important correlations and not auto-correlations\n",
    "threshold = 0.95\n",
    "important_corrs = (cor_mat[abs(cor_mat) > threshold][cor_mat != 1.0]) \\\n",
    "    .unstack().dropna().to_dict()\n",
    "unique_important_corrs = pd.DataFrame(\n",
    "    list(set([(tuple(sorted(key)), important_corrs[key]) \\\n",
    "    for key in important_corrs])), columns=['attribute pair', 'correlation'])\n",
    "##### sorted by absolute value\n",
    "unique_important_corrs = unique_important_corrs.ix[\n",
    "    abs(unique_important_corrs['correlation']).argsort()[::-1]]\n",
    "unique_important_corrs\n",
    "\n",
    "<br/><br/><br/>"
   ]
  },
  {
   "cell_type": "code",
   "execution_count": null,
   "metadata": {
    "collapsed": false
   },
   "outputs": [],
   "source": []
  },
  {
   "cell_type": "code",
   "execution_count": 10,
   "metadata": {
    "collapsed": false
   },
   "outputs": [],
   "source": [
    "def matric_relation(df, q):\n",
    "    if q<=1 and q>=0 :\n",
    "        matric = pd.DataFrame(index=[x for x in df.columns[1:].values], columns=[x for x in df.columns[1:].values])\n",
    "        #les nom des colomnes de Data Frame (sans target)\n",
    "        Col_Name = df.columns[1:].values\n",
    "\n",
    "        for i in Col_Name:\n",
    "            for j in Col_Name:\n",
    "                if i!=j:\n",
    "                    matric.loc[j,i] = df.groupby(j)[i].apply(lambda x: len(np.unique(x))).quantile(q)\n",
    "        return matric\n",
    "    \n",
    "    else:\n",
    "        print \"ERREUR : Entrer une valeur comprise entre 0 ≤ q ≤ 1\"\n"
   ]
  },
  {
   "cell_type": "code",
   "execution_count": 11,
   "metadata": {
    "collapsed": false
   },
   "outputs": [
    {
     "data": {
      "text/html": [
       "<div>\n",
       "<table border=\"1\" class=\"dataframe\">\n",
       "  <thead>\n",
       "    <tr style=\"text-align: right;\">\n",
       "      <th></th>\n",
       "      <th>RESOURCE</th>\n",
       "      <th>MGR_ID</th>\n",
       "      <th>ROLE_ROLLUP_1</th>\n",
       "      <th>ROLE_ROLLUP_2</th>\n",
       "      <th>ROLE_DEPTNAME</th>\n",
       "      <th>ROLE_TITLE</th>\n",
       "      <th>ROLE_FAMILY_DESC</th>\n",
       "      <th>ROLE_FAMILY</th>\n",
       "      <th>ROLE_CODE</th>\n",
       "    </tr>\n",
       "  </thead>\n",
       "  <tbody>\n",
       "    <tr>\n",
       "      <th>RESOURCE</th>\n",
       "      <td>NaN</td>\n",
       "      <td>587</td>\n",
       "      <td>53</td>\n",
       "      <td>68</td>\n",
       "      <td>193</td>\n",
       "      <td>121</td>\n",
       "      <td>246</td>\n",
       "      <td>36</td>\n",
       "      <td>121</td>\n",
       "    </tr>\n",
       "    <tr>\n",
       "      <th>MGR_ID</th>\n",
       "      <td>97</td>\n",
       "      <td>NaN</td>\n",
       "      <td>7</td>\n",
       "      <td>7</td>\n",
       "      <td>8</td>\n",
       "      <td>8</td>\n",
       "      <td>11</td>\n",
       "      <td>5</td>\n",
       "      <td>8</td>\n",
       "    </tr>\n",
       "    <tr>\n",
       "      <th>ROLE_ROLLUP_1</th>\n",
       "      <td>5609</td>\n",
       "      <td>1745</td>\n",
       "      <td>NaN</td>\n",
       "      <td>16</td>\n",
       "      <td>330</td>\n",
       "      <td>241</td>\n",
       "      <td>1146</td>\n",
       "      <td>61</td>\n",
       "      <td>241</td>\n",
       "    </tr>\n",
       "    <tr>\n",
       "      <th>ROLE_ROLLUP_2</th>\n",
       "      <td>1482</td>\n",
       "      <td>348</td>\n",
       "      <td>9</td>\n",
       "      <td>NaN</td>\n",
       "      <td>76</td>\n",
       "      <td>104</td>\n",
       "      <td>265</td>\n",
       "      <td>37</td>\n",
       "      <td>104</td>\n",
       "    </tr>\n",
       "    <tr>\n",
       "      <th>ROLE_DEPTNAME</th>\n",
       "      <td>332</td>\n",
       "      <td>304</td>\n",
       "      <td>40</td>\n",
       "      <td>45</td>\n",
       "      <td>NaN</td>\n",
       "      <td>46</td>\n",
       "      <td>136</td>\n",
       "      <td>17</td>\n",
       "      <td>46</td>\n",
       "    </tr>\n",
       "    <tr>\n",
       "      <th>ROLE_TITLE</th>\n",
       "      <td>2375</td>\n",
       "      <td>592</td>\n",
       "      <td>55</td>\n",
       "      <td>65</td>\n",
       "      <td>163</td>\n",
       "      <td>NaN</td>\n",
       "      <td>153</td>\n",
       "      <td>1</td>\n",
       "      <td>1</td>\n",
       "    </tr>\n",
       "    <tr>\n",
       "      <th>ROLE_FAMILY_DESC</th>\n",
       "      <td>3128</td>\n",
       "      <td>705</td>\n",
       "      <td>47</td>\n",
       "      <td>57</td>\n",
       "      <td>171</td>\n",
       "      <td>19</td>\n",
       "      <td>NaN</td>\n",
       "      <td>8</td>\n",
       "      <td>19</td>\n",
       "    </tr>\n",
       "    <tr>\n",
       "      <th>ROLE_FAMILY</th>\n",
       "      <td>4085</td>\n",
       "      <td>946</td>\n",
       "      <td>87</td>\n",
       "      <td>113</td>\n",
       "      <td>193</td>\n",
       "      <td>26</td>\n",
       "      <td>291</td>\n",
       "      <td>NaN</td>\n",
       "      <td>26</td>\n",
       "    </tr>\n",
       "    <tr>\n",
       "      <th>ROLE_CODE</th>\n",
       "      <td>2375</td>\n",
       "      <td>592</td>\n",
       "      <td>55</td>\n",
       "      <td>65</td>\n",
       "      <td>163</td>\n",
       "      <td>1</td>\n",
       "      <td>153</td>\n",
       "      <td>1</td>\n",
       "      <td>NaN</td>\n",
       "    </tr>\n",
       "  </tbody>\n",
       "</table>\n",
       "</div>"
      ],
      "text/plain": [
       "                 RESOURCE MGR_ID ROLE_ROLLUP_1 ROLE_ROLLUP_2 ROLE_DEPTNAME  \\\n",
       "RESOURCE              NaN    587            53            68           193   \n",
       "MGR_ID                 97    NaN             7             7             8   \n",
       "ROLE_ROLLUP_1        5609   1745           NaN            16           330   \n",
       "ROLE_ROLLUP_2        1482    348             9           NaN            76   \n",
       "ROLE_DEPTNAME         332    304            40            45           NaN   \n",
       "ROLE_TITLE           2375    592            55            65           163   \n",
       "ROLE_FAMILY_DESC     3128    705            47            57           171   \n",
       "ROLE_FAMILY          4085    946            87           113           193   \n",
       "ROLE_CODE            2375    592            55            65           163   \n",
       "\n",
       "                 ROLE_TITLE ROLE_FAMILY_DESC ROLE_FAMILY ROLE_CODE  \n",
       "RESOURCE                121              246          36       121  \n",
       "MGR_ID                    8               11           5         8  \n",
       "ROLE_ROLLUP_1           241             1146          61       241  \n",
       "ROLE_ROLLUP_2           104              265          37       104  \n",
       "ROLE_DEPTNAME            46              136          17        46  \n",
       "ROLE_TITLE              NaN              153           1         1  \n",
       "ROLE_FAMILY_DESC         19              NaN           8        19  \n",
       "ROLE_FAMILY              26              291         NaN        26  \n",
       "ROLE_CODE                 1              153           1       NaN  "
      ]
     },
     "execution_count": 11,
     "metadata": {},
     "output_type": "execute_result"
    }
   ],
   "source": [
    "matric_relation(df,1.0)"
   ]
  },
  {
   "cell_type": "code",
   "execution_count": null,
   "metadata": {
    "collapsed": false
   },
   "outputs": [],
   "source": []
  },
  {
   "cell_type": "code",
   "execution_count": 12,
   "metadata": {
    "collapsed": false
   },
   "outputs": [],
   "source": [
    "def Columns_equal(df, quanti):\n",
    "    duplicate = pd.DataFrame(columns=[\"Column 1\",\"Column 2\",\"quantile\"])\n",
    "    for q in quanti :\n",
    "        print q\n",
    "        if q<=1 and q>=0 :\n",
    "            mat = matric_relation(df, q)\n",
    "            #les nom des colomnes de Data Frame (sans target)\n",
    "            Col_Name = df.columns[1:].values\n",
    "            for i in Col_Name:\n",
    "                for j in Col_Name:\n",
    "                    if i!=j and mat[i][j]==1 and mat[j][i]==1:\n",
    "\n",
    "                        if len(duplicate)==0:\n",
    "                            duplicate.loc[len(duplicate)] = [i,j,q]\n",
    "                        else:\n",
    "                            drp=0\n",
    "                            for k in xrange(len(duplicate)):\n",
    "                                if duplicate.ix[k][0]==j and duplicate.ix[k][1]==i :\n",
    "                                    drp=1\n",
    "                                if duplicate.ix[k][0]==i and duplicate.ix[k][1]==j :\n",
    "                                    drp=1\n",
    "                                    if duplicate.ix[k][2] < q:\n",
    "                                        duplicate.set_value(k,2,q,takeable=True)\n",
    "                                        \n",
    "                            if drp==0:\n",
    "                                duplicate.loc[len(duplicate)] = [i,j,q]\n",
    "\n",
    "        else:\n",
    "            print \"ERREUR : Entrer une valeur comprise entre 0 ≤ q ≤ 1\"\n",
    "    return duplicate"
   ]
  },
  {
   "cell_type": "code",
   "execution_count": 15,
   "metadata": {
    "collapsed": false
   },
   "outputs": [
    {
     "name": "stdout",
     "output_type": "stream",
     "text": [
      "1.0\n",
      "0.99\n",
      "0.98\n",
      "0.7\n"
     ]
    }
   ],
   "source": [
    "tt=Columns_equal(df, [1.0, 0.99, 0.98, 0.7])"
   ]
  },
  {
   "cell_type": "code",
   "execution_count": 16,
   "metadata": {
    "collapsed": false
   },
   "outputs": [
    {
     "data": {
      "text/html": [
       "<div>\n",
       "<table border=\"1\" class=\"dataframe\">\n",
       "  <thead>\n",
       "    <tr style=\"text-align: right;\">\n",
       "      <th></th>\n",
       "      <th>Column 1</th>\n",
       "      <th>Column 2</th>\n",
       "      <th>quantile</th>\n",
       "    </tr>\n",
       "  </thead>\n",
       "  <tbody>\n",
       "    <tr>\n",
       "      <th>0</th>\n",
       "      <td>ROLE_TITLE</td>\n",
       "      <td>ROLE_CODE</td>\n",
       "      <td>1.0</td>\n",
       "    </tr>\n",
       "    <tr>\n",
       "      <th>1</th>\n",
       "      <td>ROLE_ROLLUP_1</td>\n",
       "      <td>ROLE_ROLLUP_2</td>\n",
       "      <td>0.7</td>\n",
       "    </tr>\n",
       "  </tbody>\n",
       "</table>\n",
       "</div>"
      ],
      "text/plain": [
       "        Column 1       Column 2  quantile\n",
       "0     ROLE_TITLE      ROLE_CODE       1.0\n",
       "1  ROLE_ROLLUP_1  ROLE_ROLLUP_2       0.7"
      ]
     },
     "execution_count": 16,
     "metadata": {},
     "output_type": "execute_result"
    }
   ],
   "source": [
    "tt"
   ]
  },
  {
   "cell_type": "markdown",
   "metadata": {},
   "source": [
    "## <span style=\"color:#b36c8f\">On supprime la colonne 'ROLE_CODE' et on garde 'ROLE_TITLE' <br/>(celle qui nous donne une meilleure score)</span>"
   ]
  },
  {
   "cell_type": "code",
   "execution_count": null,
   "metadata": {
    "collapsed": true
   },
   "outputs": [],
   "source": []
  },
  {
   "cell_type": "code",
   "execution_count": null,
   "metadata": {
    "collapsed": true
   },
   "outputs": [],
   "source": []
  },
  {
   "cell_type": "code",
   "execution_count": null,
   "metadata": {
    "collapsed": true
   },
   "outputs": [],
   "source": [
    "    "
   ]
  },
  {
   "cell_type": "code",
   "execution_count": 13,
   "metadata": {
    "collapsed": false
   },
   "outputs": [],
   "source": [
    "var=['RESOURCE', 'MGR_ID', 'ROLE_ROLLUP_1', 'ROLE_ROLLUP_2','ROLE_DEPTNAME', 'ROLE_TITLE', 'ROLE_FAMILY_DESC', 'ROLE_FAMILY']"
   ]
  },
  {
   "cell_type": "code",
   "execution_count": 14,
   "metadata": {
    "collapsed": false
   },
   "outputs": [
    {
     "name": "stdout",
     "output_type": "stream",
     "text": [
      "Count of unique values of each column in train set\n",
      "ACTION                 2\n",
      "RESOURCE            7518\n",
      "MGR_ID              4243\n",
      "ROLE_ROLLUP_1        128\n",
      "ROLE_ROLLUP_2        177\n",
      "ROLE_DEPTNAME        449\n",
      "ROLE_TITLE           343\n",
      "ROLE_FAMILY_DESC    2358\n",
      "ROLE_FAMILY           67\n",
      "ROLE_CODE            343\n",
      "dtype: int64\n",
      "\n"
     ]
    }
   ],
   "source": [
    "print \"Count of unique values of each column in train set\"\n",
    "print df.apply(lambda x: len(x.unique()))\n",
    "print"
   ]
  },
  {
   "cell_type": "code",
   "execution_count": 15,
   "metadata": {
    "collapsed": false
   },
   "outputs": [],
   "source": [
    "#regroupe les modalités des variables rares, pour un seuil donné \n",
    "def regroupe(df, column, seuil):\n",
    "    \n",
    "    #Valeurs les plus communes\n",
    "    ss = pd.DataFrame(data=df[column].value_counts())\n",
    "    selected = ss[column][ss[column]==1]\n",
    "    column_num = df.columns.get_loc(column)\n",
    "    for x in np.array(selected.index) :\n",
    "        for line_num in df[column][df[column]==x].index.values:\n",
    "            df.set_value(line_num, column_num, np.array(selected.index)[0], takeable=True)\n",
    "        "
   ]
  },
  {
   "cell_type": "code",
   "execution_count": 188,
   "metadata": {
    "collapsed": false
   },
   "outputs": [],
   "source": [
    "regroupe(df, \"RESOURCE\", 1)"
   ]
  },
  {
   "cell_type": "markdown",
   "metadata": {
    "collapsed": false
   },
   "source": [
    "<br/><br/><br/>\n",
    "<h5> Les arbres de décision</h5>\n",
    "<h5> AdaBoostClassifier</h5>\n",
    "<p>An AdaBoost classifier is a meta-estimator that begins by fitting a classifier on the original dataset and then fits additional copies of the classifier on the same dataset but where the weights of incorrectly classified instances are adjusted such that subsequent classifiers focus more on difficult cases.</p>\n",
    "<h5> RandomForestClassifier</h5>\n",
    "<h5> ExtraTreesClassifier</h5>\n",
    "<p>In practice, RFs are often more compact than ETs. ETs are generally cheaper to train from a computational point of view but <b>can grow much bigger</b>.</p>\n",
    "<h5> GradientBoostingClassifier :</h5>\n",
    "<p>he way GBMs work is by starting with a rough prediction and then building a <b>series of decision trees</b>, with each tree in the series trying to correct the prediction error of the tree before it.</p><br/>\n",
    "<h5 style=\"color: #c36b0f;\"> LogisticRegression</h5>\n",
    "<h5 style=\"color: #c36b0f;\"> Naive Bayes</h5>\n",
    "<br/><br/><br/>"
   ]
  },
  {
   "cell_type": "code",
   "execution_count": null,
   "metadata": {
    "collapsed": false
   },
   "outputs": [],
   "source": []
  },
  {
   "cell_type": "markdown",
   "metadata": {},
   "source": [
    "## Echantillonnage de données"
   ]
  },
  {
   "cell_type": "code",
   "execution_count": 16,
   "metadata": {
    "collapsed": false
   },
   "outputs": [
    {
     "name": "stdout",
     "output_type": "stream",
     "text": [
      "train  74.9977112515 %\n",
      "\n",
      "   ACTION  Percentage\n",
      "1   23142   94.165039\n",
      "0    1434    5.834961\n",
      "\n",
      "\n",
      "test 25.0022887485 % \n",
      "\n",
      "   ACTION  Percentage\n",
      "1    7730   94.348834\n",
      "0     463    5.651166\n"
     ]
    }
   ],
   "source": [
    "Y = df.ACTION\n",
    "X = df.drop(['ACTION'], axis=1)\n",
    "\n",
    "# diviser X et Y en training and testing\n",
    "from sklearn.cross_validation import train_test_split\n",
    "X_train, X_test, Y_train, Y_test = train_test_split(X, Y, test_size=0.25,random_state=1)\n",
    "\n",
    "df1 = pd.DataFrame(Y_train.value_counts())\n",
    "df1['Percentage'] = 100*df1['ACTION']/len(Y_train)\n",
    "pr1=100*len(Y_train)/(len(df)+0.0)\n",
    "print 'train ',pr1,'%\\n\\n', df1\n",
    "\n",
    "df2 = pd.DataFrame(Y_test.value_counts())\n",
    "df2['Percentage'] = 100*df2['ACTION']/len(Y_test)\n",
    "pr2=100*len(Y_test)/(len(df)+0.0)\n",
    "print '\\n\\ntest',pr2,'% \\n\\n',df2"
   ]
  },
  {
   "cell_type": "code",
   "execution_count": null,
   "metadata": {
    "collapsed": false
   },
   "outputs": [],
   "source": []
  },
  {
   "cell_type": "code",
   "execution_count": null,
   "metadata": {
    "collapsed": false
   },
   "outputs": [],
   "source": []
  },
  {
   "cell_type": "code",
   "execution_count": null,
   "metadata": {
    "collapsed": true
   },
   "outputs": [],
   "source": []
  },
  {
   "cell_type": "code",
   "execution_count": 257,
   "metadata": {
    "collapsed": false
   },
   "outputs": [
    {
     "data": {
      "text/plain": [
       "<32769x15283 sparse matrix of type '<type 'numpy.float64'>'\n",
       "\twith 262152 stored elements in Compressed Sparse Row format>"
      ]
     },
     "execution_count": 257,
     "metadata": {},
     "output_type": "execute_result"
    }
   ],
   "source": [
    "from sklearn.preprocessing import OneHotEncoder \n",
    "data_sparce=OneHotEncoder().fit_transform(df[var].astype(str))\n",
    "data_sparce\n",
    "print type(data_sparce)"
   ]
  },
  {
   "cell_type": "code",
   "execution_count": null,
   "metadata": {
    "collapsed": false
   },
   "outputs": [],
   "source": []
  },
  {
   "cell_type": "code",
   "execution_count": null,
   "metadata": {
    "collapsed": false
   },
   "outputs": [],
   "source": []
  },
  {
   "cell_type": "markdown",
   "metadata": {},
   "source": [
    "<h3><span style=\"color: #3366ff;\">CHOIX DU MODELE A UTILISER</span></h3>"
   ]
  },
  {
   "cell_type": "code",
   "execution_count": 13,
   "metadata": {
    "collapsed": true
   },
   "outputs": [],
   "source": [
    "#fonction de prédiction sur le dataset de validation\n",
    "def validation(clf1, Xv, Yv):\n",
    "    preds = clf1.predict_proba(Xv)[:,1]\n",
    "    return roc_auc_score(Yv, preds)"
   ]
  },
  {
   "cell_type": "markdown",
   "metadata": {},
   "source": [
    "## Arbres de décision"
   ]
  },
  {
   "cell_type": "code",
   "execution_count": 254,
   "metadata": {
    "collapsed": false
   },
   "outputs": [],
   "source": [
    "#CHOIX DU MODELE A UTILISER\n",
    "#Les arbres de décision\n",
    "\n",
    "\n",
    "clf = DecisionTreeClassifier(random_state=1)\n",
    "params = {'max_depth':range(1,14),\n",
    "          'min_samples_leaf' : range(1,14)} #pour le gridSearch    \n",
    "metric = 'roc_auc'\n"
   ]
  },
  {
   "cell_type": "code",
   "execution_count": 255,
   "metadata": {
    "collapsed": false
   },
   "outputs": [
    {
     "name": "stdout",
     "output_type": "stream",
     "text": [
      "Resultat d'apprentissage :  0.716071984535 {'max_depth': 13, 'min_samples_leaf': 13}\n",
      "Resultat de validation :  0.779412627585\n"
     ]
    }
   ],
   "source": [
    "#fonction d'apprentissage avec cross validation et gridsearch sur le premier dataset\n",
    "def performance(X,Y):\n",
    "    kf = StratifiedKFold(Y, n_folds=3, random_state=1)    \n",
    "    gs = GridSearchCV(clf, params, scoring=metric, cv=kf)\n",
    "    gs.fit(X,Y)\n",
    "    return gs\n",
    "\n",
    "#fonction de prédiction sur le dataset de validation\n",
    "def validation(clf1, Xv, Yv):\n",
    "    preds = clf1.predict_proba(Xv)[:,1]\n",
    "    return roc_auc_score(Yv, preds)\n",
    "\n",
    "gs = performance(X_train,Y_train)\n",
    "print \"Resultat d'apprentissage : \",gs.best_score_, gs.best_params_\n",
    "\n",
    "print \"Resultat de validation : \",validation(gs.best_estimator_, X_test, Y_test)"
   ]
  },
  {
   "cell_type": "markdown",
   "metadata": {},
   "source": [
    "Resultat d'apprentissage :  0.746896548108 {'max_depth': 20, 'min_samples_leaf': 32}<br/>\n",
    "Resultat de validation :  0.775431336774<br/><br/>\n",
    "Resultat d'apprentissage :  0.716071984535 {'max_depth': 13, 'min_samples_leaf': 13}<br/>\n",
    "Resultat de validation :  0.779412627585"
   ]
  },
  {
   "cell_type": "code",
   "execution_count": null,
   "metadata": {
    "collapsed": true
   },
   "outputs": [],
   "source": []
  },
  {
   "cell_type": "code",
   "execution_count": null,
   "metadata": {
    "collapsed": true
   },
   "outputs": [],
   "source": []
  }
 ],
 "metadata": {
  "kernelspec": {
   "display_name": "Python 2",
   "language": "python",
   "name": "python2"
  },
  "language_info": {
   "codemirror_mode": {
    "name": "ipython",
    "version": 2
   },
   "file_extension": ".py",
   "mimetype": "text/x-python",
   "name": "python",
   "nbconvert_exporter": "python",
   "pygments_lexer": "ipython2",
   "version": "2.7.6"
  }
 },
 "nbformat": 4,
 "nbformat_minor": 0
}
