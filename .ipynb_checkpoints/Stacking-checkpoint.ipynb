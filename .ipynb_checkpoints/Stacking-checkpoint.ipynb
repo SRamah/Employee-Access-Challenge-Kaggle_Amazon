{
 "cells": [
  {
   "cell_type": "code",
   "execution_count": 1,
   "metadata": {
    "collapsed": true
   },
   "outputs": [],
   "source": [
    "import numpy as np\n",
    "import pandas as pd\n",
    "from sklearn.cross_validation import StratifiedKFold\n",
    "from sklearn.grid_search import GridSearchCV\n",
    "from sklearn.ensemble import (AdaBoostClassifier, RandomForestClassifier, ExtraTreesClassifier, GradientBoostingClassifier)\n",
    "from sklearn.tree import DecisionTreeClassifier\n",
    "from sklearn.linear_model import Lasso\n",
    "from sklearn.preprocessing import MinMaxScaler, StandardScaler\n",
    "from sklearn.metrics import roc_auc_score\n",
    "import matplotlib.pyplot as plt\n",
    "%matplotlib inline\n",
    "from sklearn import metrics, linear_model, naive_bayes\n",
    "from sklearn.linear_model import LinearRegression, Ridge\n",
    "from sklearn.preprocessing import OneHotEncoder \n",
    "from scipy import sparse\n",
    "from mlxtend.classifier import StackingClassifier\n",
    "from sklearn.cross_validation import train_test_split"
   ]
  },
  {
   "cell_type": "code",
   "execution_count": 2,
   "metadata": {
    "collapsed": true
   },
   "outputs": [],
   "source": [
    "#Chargement du fichier train.csv dans le dataframe df\n",
    "df = pd.read_csv(\"train.csv\")"
   ]
  },
  {
   "cell_type": "code",
   "execution_count": 3,
   "metadata": {
    "collapsed": true
   },
   "outputs": [],
   "source": [
    "#fonction de prédiction sur le dataset de validation\n",
    "def validation(clf1, Xv, Yv):\n",
    "    preds = clf1.predict_proba(Xv)[:,1]\n",
    "    return roc_auc_score(Yv, preds)"
   ]
  },
  {
   "cell_type": "code",
   "execution_count": 4,
   "metadata": {
    "collapsed": true
   },
   "outputs": [],
   "source": [
    "#regroupe les modalités des variables rares, pour un seuil donné \n",
    "def regroupe(df, column, seuil):\n",
    "    df_temp=df.copy()\n",
    "    if seuil==0:\n",
    "        return df_temp\n",
    "    else:\n",
    "        #if (df_temp[column].count()*2.5/100) <= (np.array(df_temp[column].value_counts()==seuil ,dtype=int).sum()):\n",
    "        #Valeurs les plus communes\n",
    "        ss = pd.DataFrame(data=df_temp[column].value_counts())\n",
    "        selected = ss[column][ss[column]<=seuil]\n",
    "        column_num = df_temp.columns.get_loc(column)\n",
    "        for x in np.array(selected.index) :\n",
    "            for line_num in df_temp[column][df_temp[column]==x].index.values:\n",
    "                df_temp.set_value(line_num, column_num, np.array(selected.index)[0], takeable=True)\n",
    "        #print column,\"seuil=\",seuil\n",
    "        return df_temp"
   ]
  },
  {
   "cell_type": "markdown",
   "metadata": {},
   "source": [
    "## Echantillonnage de données"
   ]
  },
  {
   "cell_type": "code",
   "execution_count": 5,
   "metadata": {
    "collapsed": true
   },
   "outputs": [],
   "source": [
    "def splitData(df):\n",
    "    Y = df.ACTION\n",
    "    X = df.drop(['ACTION'], axis=1)\n",
    "\n",
    "    # diviser X et Y en training and testing\n",
    "    from sklearn.cross_validation import train_test_split\n",
    "    return  train_test_split(X, Y, test_size=0.25,random_state=1)"
   ]
  },
  {
   "cell_type": "markdown",
   "metadata": {},
   "source": [
    "## <span style=\"color:#b36c8f\">On supprime la colonne 'ROLE_CODE' et on garde 'ROLE_TITLE' <br/>(celle qui nous donne une meilleure score)</span>"
   ]
  },
  {
   "cell_type": "code",
   "execution_count": 6,
   "metadata": {
    "collapsed": true
   },
   "outputs": [],
   "source": [
    "var=['RESOURCE', 'MGR_ID', 'ROLE_ROLLUP_1', 'ROLE_ROLLUP_2','ROLE_DEPTNAME', 'ROLE_TITLE', 'ROLE_FAMILY_DESC', 'ROLE_FAMILY']"
   ]
  },
  {
   "cell_type": "markdown",
   "metadata": {},
   "source": [
    "<br/><br/><br/>\n",
    "\n",
    "## RandomForestClassifier"
   ]
  },
  {
   "cell_type": "markdown",
   "metadata": {},
   "source": [
    "##### Reduction du modalités des colonnes de DataFrame en fonction du seuil  "
   ]
  },
  {
   "cell_type": "code",
   "execution_count": 116,
   "metadata": {
    "collapsed": true
   },
   "outputs": [],
   "source": [
    "temp = regroupe(df, \"RESOURCE\", 1)\n",
    "temp = regroupe(temp, \"ROLE_TITLE\", 0)\n",
    "temp = regroupe(temp, \"MGR_ID\", 1)\n",
    "temp = regroupe(temp, \"ROLE_ROLLUP_2\", 2)\n",
    "temp = regroupe(temp, \"ROLE_FAMILY_DESC\", 24)\n",
    "temp = regroupe(temp, \"ROLE_FAMILY\", 16)\n",
    "temp = regroupe(temp, \"ROLE_DEPTNAME\", 52)\n",
    "temp = regroupe(temp, \"ROLE_ROLLUP_1\", 5)\n",
    "\n",
    "Xr_train, Xr_test, Yr_train, Yr_test = splitData(temp)"
   ]
  },
  {
   "cell_type": "code",
   "execution_count": 117,
   "metadata": {
    "collapsed": false
   },
   "outputs": [
    {
     "name": "stdout",
     "output_type": "stream",
     "text": [
      "CPU times: user 44.1 s, sys: 735 ms, total: 44.8 s\n",
      "Wall time: 16.3 s\n"
     ]
    },
    {
     "data": {
      "text/plain": [
       "RandomForestClassifier(bootstrap=True, class_weight=None, criterion='gini',\n",
       "            max_depth=None, max_features='auto', max_leaf_nodes=None,\n",
       "            min_samples_leaf=1, min_samples_split=9,\n",
       "            min_weight_fraction_leaf=0.0, n_estimators=1040, n_jobs=-1,\n",
       "            oob_score=False, random_state=42, verbose=0, warm_start=False)"
      ]
     },
     "execution_count": 117,
     "metadata": {},
     "output_type": "execute_result"
    }
   ],
   "source": [
    "modele_RF = RandomForestClassifier(n_estimators=1040, min_samples_split=9, n_jobs=-1, random_state=42)\n",
    "%time modele_RF.fit(Xr_train[var], Yr_train)"
   ]
  },
  {
   "cell_type": "code",
   "execution_count": 118,
   "metadata": {
    "collapsed": false
   },
   "outputs": [
    {
     "name": "stdout",
     "output_type": "stream",
     "text": [
      "Resultat d'apprentissage :  0.993743210163\n",
      "Resultat de validation :  0.873741614254\n"
     ]
    }
   ],
   "source": [
    "print \"Resultat d'apprentissage : \",validation(modele_RF, Xr_train[var], Yr_train)\n",
    "print \"Resultat de validation : \",validation(modele_RF, Xr_test[var], Yr_test)"
   ]
  },
  {
   "cell_type": "markdown",
   "metadata": {},
   "source": [
    "<br/><br/><br/>\n",
    "\n",
    "## AdaBoostClassifier      ---"
   ]
  },
  {
   "cell_type": "code",
   "execution_count": 119,
   "metadata": {
    "collapsed": false
   },
   "outputs": [
    {
     "name": "stdout",
     "output_type": "stream",
     "text": [
      "CPU times: user 40min 42s, sys: 1min 27s, total: 42min 10s\n",
      "Wall time: 15min\n"
     ]
    },
    {
     "data": {
      "text/plain": [
       "AdaBoostClassifier(algorithm='SAMME.R',\n",
       "          base_estimator=RandomForestClassifier(bootstrap=True, class_weight=None, criterion='gini',\n",
       "            max_depth=None, max_features='auto', max_leaf_nodes=None,\n",
       "            min_samples_leaf=1, min_samples_split=9,\n",
       "            min_weight_fraction_leaf=0.0, n_estimators=1000, n_jobs=-1,\n",
       "            oob_score=False, random_state=42, verbose=0, warm_start=False),\n",
       "          learning_rate=1.0, n_estimators=50, random_state=1)"
      ]
     },
     "execution_count": 119,
     "metadata": {},
     "output_type": "execute_result"
    }
   ],
   "source": [
    "modele_RFC = RandomForestClassifier(n_estimators=1000, min_samples_split=9, n_jobs=-1, random_state=42)\n",
    "modele_ABC = AdaBoostClassifier(base_estimator = modele_RFC, random_state=1, learning_rate=1.0)\n",
    "%time modele_ABC.fit(Xr_train[var], Yr_train)"
   ]
  },
  {
   "cell_type": "code",
   "execution_count": 120,
   "metadata": {
    "collapsed": false
   },
   "outputs": [
    {
     "name": "stdout",
     "output_type": "stream",
     "text": [
      "Resultat de validation :  0.86848314748\n",
      "CPU times: user 2min 15s, sys: 59.3 s, total: 3min 14s\n",
      "Wall time: 2min 23s\n"
     ]
    }
   ],
   "source": [
    "%time print \"Resultat de validation : \",validation(modele_ABC, Xr_test[var], Yr_test)"
   ]
  },
  {
   "cell_type": "markdown",
   "metadata": {},
   "source": [
    "<br/><br/><br/>\n",
    "\n",
    "## AdaBoostClassifier  ==="
   ]
  },
  {
   "cell_type": "code",
   "execution_count": 121,
   "metadata": {
    "collapsed": true
   },
   "outputs": [],
   "source": [
    "X_train, X_test, Y_train, Y_test = splitData(df)"
   ]
  },
  {
   "cell_type": "code",
   "execution_count": 122,
   "metadata": {
    "collapsed": false
   },
   "outputs": [
    {
     "name": "stdout",
     "output_type": "stream",
     "text": [
      "CPU times: user 3min 58s, sys: 7.14 s, total: 4min 5s\n",
      "Wall time: 1min 25s\n"
     ]
    },
    {
     "data": {
      "text/plain": [
       "AdaBoostClassifier(algorithm='SAMME.R',\n",
       "          base_estimator=RandomForestClassifier(bootstrap=True, class_weight=None, criterion='gini',\n",
       "            max_depth=None, max_features='auto', max_leaf_nodes=None,\n",
       "            min_samples_leaf=1, min_samples_split=9,\n",
       "            min_weight_fraction_leaf=0.0, n_estimators=1000, n_jobs=-1,\n",
       "            oob_score=False, random_state=42, verbose=0, warm_start=False),\n",
       "          learning_rate=1.0, n_estimators=50, random_state=1)"
      ]
     },
     "execution_count": 122,
     "metadata": {},
     "output_type": "execute_result"
    }
   ],
   "source": [
    "modele_RFC = RandomForestClassifier(n_estimators=1000, min_samples_split=9, n_jobs=-1, random_state=42)\n",
    "modele_ABCn = AdaBoostClassifier(base_estimator = modele_RFC, random_state=1, learning_rate=1.0)\n",
    "%time modele_ABCn.fit(X_train[var], Y_train)"
   ]
  },
  {
   "cell_type": "code",
   "execution_count": 123,
   "metadata": {
    "collapsed": false
   },
   "outputs": [
    {
     "name": "stdout",
     "output_type": "stream",
     "text": [
      "Resultat de validation :  0.870251104362\n",
      "CPU times: user 10 s, sys: 2.45 s, total: 12.5 s\n",
      "Wall time: 5.91 s\n"
     ]
    }
   ],
   "source": [
    "%time print \"Resultat de validation : \",validation(modele_ABCn, X_test[var], Y_test)"
   ]
  },
  {
   "cell_type": "markdown",
   "metadata": {},
   "source": [
    "<br/><br/><br/>\n",
    "\n",
    "## ExtraTreesClassifier"
   ]
  },
  {
   "cell_type": "code",
   "execution_count": 124,
   "metadata": {
    "collapsed": false
   },
   "outputs": [
    {
     "name": "stdout",
     "output_type": "stream",
     "text": [
      "CPU times: user 28.9 s, sys: 1.34 s, total: 30.2 s\n",
      "Wall time: 12.7 s\n"
     ]
    },
    {
     "data": {
      "text/plain": [
       "ExtraTreesClassifier(bootstrap=False, class_weight=None, criterion='gini',\n",
       "           max_depth=None, max_features='auto', max_leaf_nodes=None,\n",
       "           min_samples_leaf=1, min_samples_split=8,\n",
       "           min_weight_fraction_leaf=0.0, n_estimators=1020, n_jobs=-1,\n",
       "           oob_score=False, random_state=5, verbose=0, warm_start=False)"
      ]
     },
     "execution_count": 124,
     "metadata": {},
     "output_type": "execute_result"
    }
   ],
   "source": [
    "modele_XT =ExtraTreesClassifier(n_estimators=1020, min_samples_split=8, n_jobs=-1, random_state=5)\n",
    "%time modele_XT.fit(Xr_train[var], Yr_train)"
   ]
  },
  {
   "cell_type": "code",
   "execution_count": 125,
   "metadata": {
    "collapsed": false
   },
   "outputs": [
    {
     "name": "stdout",
     "output_type": "stream",
     "text": [
      "Resultat d'apprentissage' :  0.994458806083\n",
      "Resultat de validation :  0.863034263857\n"
     ]
    }
   ],
   "source": [
    "print \"Resultat d'apprentissage' : \",validation(modele_XT, Xr_train[var], Yr_train)\n",
    "print \"Resultat de validation : \",validation(modele_XT, Xr_test[var], Yr_test)"
   ]
  },
  {
   "cell_type": "markdown",
   "metadata": {},
   "source": [
    "<br/><br/><br/>\n",
    "\n",
    "## GradientBoostingClassifier"
   ]
  },
  {
   "cell_type": "code",
   "execution_count": 126,
   "metadata": {
    "collapsed": false
   },
   "outputs": [
    {
     "name": "stdout",
     "output_type": "stream",
     "text": [
      "CPU times: user 42.8 s, sys: 347 ms, total: 43.2 s\n",
      "Wall time: 43.9 s\n"
     ]
    },
    {
     "data": {
      "text/plain": [
       "GradientBoostingClassifier(init=None, learning_rate=0.2, loss='deviance',\n",
       "              max_depth=20, max_features=None, max_leaf_nodes=None,\n",
       "              min_samples_leaf=1, min_samples_split=9,\n",
       "              min_weight_fraction_leaf=0.0, n_estimators=90,\n",
       "              presort='auto', random_state=1, subsample=1.0, verbose=0,\n",
       "              warm_start=False)"
      ]
     },
     "execution_count": 126,
     "metadata": {},
     "output_type": "execute_result"
    }
   ],
   "source": [
    "modele_GB =GradientBoostingClassifier(n_estimators=90, learning_rate=0.20, max_depth=20, min_samples_split=9, random_state=1)\n",
    "%time modele_GB.fit(Xr_train[var], Yr_train)"
   ]
  },
  {
   "cell_type": "code",
   "execution_count": 127,
   "metadata": {
    "collapsed": false
   },
   "outputs": [
    {
     "name": "stdout",
     "output_type": "stream",
     "text": [
      "Resultat de validation :  0.858124917924\n"
     ]
    }
   ],
   "source": [
    "print \"Resultat de validation : \",validation(modele_GB, Xr_test[var], Yr_test)"
   ]
  },
  {
   "cell_type": "markdown",
   "metadata": {},
   "source": [
    "<br/><br/><br/>\n",
    "# StackingClassifier"
   ]
  },
  {
   "cell_type": "code",
   "execution_count": null,
   "metadata": {
    "collapsed": true
   },
   "outputs": [],
   "source": [
    "modele_RF = RandomForestClassifier(n_estimators=1040, min_samples_split=9, n_jobs=-1, random_state=42)\n",
    "modele_RFC = RandomForestClassifier(n_estimators=1000, min_samples_split=9, n_jobs=-1, random_state=42)\n",
    "modele_ABC = AdaBoostClassifier(base_estimator = modele_RFC, random_state=1, learning_rate=1.0)\n",
    "modele_XT =ExtraTreesClassifier(n_estimators=1020, min_samples_split=8, n_jobs=-1, random_state=5)\n",
    "modele_GB =GradientBoostingClassifier(n_estimators=90, learning_rate=0.20, max_depth=20, min_samples_split=9, random_state=1)\n"
   ]
  },
  {
   "cell_type": "code",
   "execution_count": 9,
   "metadata": {
    "collapsed": false
   },
   "outputs": [
    {
     "name": "stdout",
     "output_type": "stream",
     "text": [
      "CPU times: user 47min 41s, sys: 3min 3s, total: 50min 44s\n",
      "Wall time: 20min 24s\n"
     ]
    }
   ],
   "source": [
    "lr = linear_model.LogisticRegression(C=2, intercept_scaling=1, random_state=1, n_jobs=-1)\n",
    "stkclf = StackingClassifier(classifiers=[modele_RF, modele_ABC, modele_XT, modele_GB], \n",
    "                          meta_classifier=lr, use_probas=True)\n",
    "%time stkclf = stkclf.fit(Xr_train[var], Yr_train)"
   ]
  },
  {
   "cell_type": "code",
   "execution_count": 10,
   "metadata": {
    "collapsed": false
   },
   "outputs": [
    {
     "name": "stdout",
     "output_type": "stream",
     "text": [
      "Resultat de validation =  0.872794559359\n",
      "Resultat de validation =  0.866552854297    C=2, intercept_scaling=1, random_state=1, n_jobs=-1\n"
     ]
    }
   ],
   "source": [
    "print \"Resultat de validation = \",validation(stkclf, Xr_test[var], Yr_test)\n",
    "print \"Resultat de validation =  0.872794559359    C=2, intercept_scaling=1, random_state=1, n_jobs=-1\""
   ]
  },
  {
   "cell_type": "markdown",
   "metadata": {},
   "source": [
    "<br/><br/><br/>\n",
    "# Soft VotingClassifier"
   ]
  },
  {
   "cell_type": "code",
   "execution_count": 15,
   "metadata": {
    "collapsed": false
   },
   "outputs": [
    {
     "name": "stdout",
     "output_type": "stream",
     "text": [
      "CPU times: user 42min 5s, sys: 1min 19s, total: 43min 25s\n",
      "Wall time: 16min 5s\n"
     ]
    }
   ],
   "source": [
    "from itertools import product\n",
    "from sklearn.ensemble import VotingClassifier\n",
    "\n",
    "\n",
    "eclf = VotingClassifier(estimators=[('RF', modele_RF), ('ABC', modele_ABC), ('XT', modele_XT), ('GB', modele_GB)], voting='soft', \n",
    "                        weights=[29,30,28,2])\n",
    "%time eclf = eclf.fit(Xr_train[var], Yr_train)"
   ]
  },
  {
   "cell_type": "code",
   "execution_count": 16,
   "metadata": {
    "collapsed": false
   },
   "outputs": [
    {
     "name": "stdout",
     "output_type": "stream",
     "text": [
      "Resultat de validation =  0.872825992808\n"
     ]
    }
   ],
   "source": [
    "print \"Resultat de validation = \",validation(eclf, Xr_test[var], Yr_test)"
   ]
  },
  {
   "cell_type": "code",
   "execution_count": 17,
   "metadata": {
    "collapsed": true
   },
   "outputs": [],
   "source": [
    "test = pd.read_csv('test.csv', index_col=0)\n",
    "preds = stkclf.predict_proba(test[var])[:,1]\n",
    "submissions = pd.DataFrame(data=preds, columns=[\"ACTION\"], index = test.index)\n",
    "submissions.to_csv(\"sampleSubmission.csv\")"
   ]
  },
  {
   "cell_type": "markdown",
   "metadata": {},
   "source": [
    "<br/><br/><br/>\n",
    "# DataFrame probabilité"
   ]
  },
  {
   "cell_type": "code",
   "execution_count": 128,
   "metadata": {
    "collapsed": false
   },
   "outputs": [],
   "source": [
    "pred_df=pd.DataFrame(columns=['ABCn','RF','ABC','XT','GB'])\n",
    "pred_df['ABCn']=modele_ABCn.predict_proba(df[var])[:,1]\n",
    "pred_df['RF']=modele_RF.predict_proba(df[var])[:,1]\n",
    "pred_df['ABC']=modele_ABC.predict_proba(df[var])[:,1]\n",
    "pred_df['XT']=modele_XT.predict_proba(df[var])[:,1]\n",
    "pred_df['GB']=modele_GB.predict_proba(df[var])[:,1]"
   ]
  },
  {
   "cell_type": "code",
   "execution_count": 129,
   "metadata": {
    "collapsed": false
   },
   "outputs": [],
   "source": [
    "pred_TEST=pd.DataFrame(columns=['ABCn','RF','ABC','XT','GB'])\n",
    "pred_TEST['ABCn']=modele_ABCn.predict_proba(test[var])[:,1]\n",
    "pred_TEST['RF']=modele_RF.predict_proba(test[var])[:,1]\n",
    "pred_TEST['ABC']=modele_ABC.predict_proba(test[var])[:,1]\n",
    "pred_TEST['XT']=modele_XT.predict_proba(test[var])[:,1]\n",
    "pred_TEST['GB']=modele_GB.predict_proba(test[var])[:,1]"
   ]
  },
  {
   "cell_type": "code",
   "execution_count": 130,
   "metadata": {
    "collapsed": true
   },
   "outputs": [],
   "source": [
    "pred_TEST.to_csv(\"CV.csv\")"
   ]
  },
  {
   "cell_type": "code",
   "execution_count": 131,
   "metadata": {
    "collapsed": true
   },
   "outputs": [],
   "source": [
    "pred_df.to_csv(\"TR.csv\")"
   ]
  },
  {
   "cell_type": "markdown",
   "metadata": {
    "collapsed": false
   },
   "source": [
    "<br/><br/><br/><br/><br/>\n",
    "\n",
    "## Sparce"
   ]
  },
  {
   "cell_type": "code",
   "execution_count": 384,
   "metadata": {
    "collapsed": false
   },
   "outputs": [
    {
     "name": "stdout",
     "output_type": "stream",
     "text": [
      "These are the inputs used:  ['RESOURCE' 'MGR_ID' 'ROLE_ROLLUP_1' 'ROLE_ROLLUP_2' 'ROLE_DEPTNAME'\n",
      " 'ROLE_TITLE' 'ROLE_FAMILY_DESC' 'ROLE_FAMILY']\n",
      "\n",
      "\n",
      "Combined test, train data rows and columns:  (91690, 8)\n",
      "\n",
      "\n"
     ]
    }
   ],
   "source": [
    "test = pd.read_csv('test.csv', index_col=0)\n",
    "train = pd.read_csv('train.csv') \n",
    "input_cols = train.columns[1:-1] # don't need first (label) or last (duplicate)\n",
    "Y = train.ACTION\n",
    "print \"These are the inputs used: \",input_cols.values\n",
    "print \"\\n\"\n",
    "\n",
    "all_data = np.vstack((train[input_cols.values], test[input_cols.values]))\n",
    "train_rows = len(train)\n",
    "print \"Combined test, train data rows and columns: \",all_data.shape\n",
    "print \"\\n\"\n",
    "all_data=pd.DataFrame(data=all_data, columns=input_cols)\n",
    "\n",
    "goodVar= ['MGR_ID', 'ROLE_DEPTNAME', 'ROLE_FAMILY_DESC', 'ROLE_ROLLUP_2', 'RESOURCE', 'ROLE_TITLE']\n"
   ]
  },
  {
   "cell_type": "code",
   "execution_count": 387,
   "metadata": {
    "collapsed": false
   },
   "outputs": [],
   "source": [
    "\"\"\"temp = regroupe(all_data, \"RESOURCE\", 1)\n",
    "temp = regroupe(temp, \"ROLE_TITLE\", 0)\n",
    "temp = regroupe(temp, \"MGR_ID\", 1)\n",
    "temp = regroupe(temp, \"ROLE_ROLLUP_2\", 2)\n",
    "temp = regroupe(temp, \"ROLE_FAMILY_DESC\", 24)\n",
    "temp = regroupe(temp, \"ROLE_FAMILY\", 16)\n",
    "temp = regroupe(temp, \"ROLE_DEPTNAME\", 52)\n",
    "tempxt = regroupe(temp, \"ROLE_ROLLUP_1\", 5)\n",
    "['MGR_ID',  'ROLE_FAMILY_DESC', 'RESOURCE', 'ROLE_TITLE']\n",
    "\"\"\"\n",
    "temp = regroupe(all_data, \"RESOURCE\", 1)\n",
    "temp = regroupe(temp, \"MGR_ID\", 1)"
   ]
  },
  {
   "cell_type": "code",
   "execution_count": 386,
   "metadata": {
    "collapsed": true
   },
   "outputs": [],
   "source": [
    "#temp.to_csv(\"temp.csv\")"
   ]
  },
  {
   "cell_type": "code",
   "execution_count": 363,
   "metadata": {
    "collapsed": true
   },
   "outputs": [],
   "source": [
    "X_all = OneHotEncoder().fit_transform(temp[goodVar].astype(str))\n",
    "X_train_all = X_all[:train_rows,:]\n",
    "X_test_all = X_all[train_rows:,:]\n",
    "X_train_sparce, X_test_sparce, Y_train_sparce, Y_test_sparce = train_test_split(X_train_all, Y, test_size=0.25,random_state=1)"
   ]
  },
  {
   "cell_type": "markdown",
   "metadata": {
    "collapsed": true
   },
   "source": [
    "<h3><span style=\"color: #c36b0f;\">LogisticRegression</span></h3>"
   ]
  },
  {
   "cell_type": "markdown",
   "metadata": {},
   "source": [
    "    Best Score :  [0.86013526162408949, 1, 1, 2, 0, 0, 0] RL ~ 3h22min\n",
    "    ['ROLE_ROLLUP_2'*1, 'RESOURCE'*1, 'ROLE_TITLE'*2,'MGR_ID'*0, 'ROLE_DEPTNAME'*0, 'ROLE_FAMILY_DESC'*0]"
   ]
  },
  {
   "cell_type": "code",
   "execution_count": 364,
   "metadata": {
    "collapsed": false
   },
   "outputs": [
    {
     "data": {
      "text/plain": [
       "LogisticRegression(C=2.602, class_weight=None, dual=False, fit_intercept=True,\n",
       "          intercept_scaling=2.21, max_iter=100, multi_class='ovr',\n",
       "          n_jobs=-1, penalty='l2', random_state=1, solver='newton-cg',\n",
       "          tol=0.0001, verbose=0, warm_start=False)"
      ]
     },
     "execution_count": 364,
     "metadata": {},
     "output_type": "execute_result"
    }
   ],
   "source": [
    "modele_LR = linear_model.LogisticRegression(C=2.602, n_jobs=-1, intercept_scaling=2.21, random_state=1, solver='newton-cg')\n",
    "modele_LR.fit(X_train_sparce, Y_train_sparce)"
   ]
  },
  {
   "cell_type": "code",
   "execution_count": 365,
   "metadata": {
    "collapsed": false
   },
   "outputs": [
    {
     "name": "stdout",
     "output_type": "stream",
     "text": [
      "Resultat de validation :  0.859498350093\n",
      "Resultat de validation :  0.8637510862\n"
     ]
    }
   ],
   "source": [
    "print \"Resultat de validation : \",validation(modele_LR, X_test_sparce, Y_test_sparce)\n",
    "print \"Resultat de validation :  0.8637510862\""
   ]
  },
  {
   "cell_type": "code",
   "execution_count": 188,
   "metadata": {
    "collapsed": true
   },
   "outputs": [],
   "source": [
    "naive_bayes.BernoulliNB?"
   ]
  },
  {
   "cell_type": "markdown",
   "metadata": {},
   "source": [
    "<h3><span style=\"color: #c36b0f;\">Naive Bayes</span></h3>"
   ]
  },
  {
   "cell_type": "code",
   "execution_count": 366,
   "metadata": {
    "collapsed": false
   },
   "outputs": [
    {
     "name": "stdout",
     "output_type": "stream",
     "text": [
      "CPU times: user 11.3 ms, sys: 5.73 ms, total: 17.1 ms\n",
      "Wall time: 22.6 ms\n"
     ]
    },
    {
     "data": {
      "text/plain": [
       "BernoulliNB(alpha=0.045, binarize=0.0, class_prior=None, fit_prior=True)"
      ]
     },
     "execution_count": 366,
     "metadata": {},
     "output_type": "execute_result"
    }
   ],
   "source": [
    "modele_NB = naive_bayes.BernoulliNB(alpha=0.045)\n",
    "%time modele_NB.fit(X_train_sparce, Y_train_sparce)"
   ]
  },
  {
   "cell_type": "code",
   "execution_count": 367,
   "metadata": {
    "collapsed": false
   },
   "outputs": [
    {
     "name": "stdout",
     "output_type": "stream",
     "text": [
      "Resultat de validation :  0.836367802089\n",
      "Resultat de validation :  0.839242216379\n"
     ]
    }
   ],
   "source": [
    "print \"Resultat de validation : \",validation(modele_NB, X_test_sparce, Y_test_sparce)\n",
    "print \"Resultat de validation :  0.839242216379\""
   ]
  },
  {
   "cell_type": "markdown",
   "metadata": {},
   "source": [
    "### ExtraTreesClassifier"
   ]
  },
  {
   "cell_type": "code",
   "execution_count": 368,
   "metadata": {
    "collapsed": false
   },
   "outputs": [
    {
     "name": "stdout",
     "output_type": "stream",
     "text": [
      "CPU times: user 5min 18s, sys: 1.43 s, total: 5min 19s\n",
      "Wall time: 1min 33s\n"
     ]
    },
    {
     "data": {
      "text/plain": [
       "ExtraTreesClassifier(bootstrap=False, class_weight=None, criterion='entropy',\n",
       "           max_depth=None, max_features='auto', max_leaf_nodes=None,\n",
       "           min_samples_leaf=0.01, min_samples_split=5,\n",
       "           min_weight_fraction_leaf=0.0, n_estimators=190, n_jobs=-1,\n",
       "           oob_score=False, random_state=5, verbose=0, warm_start=False)"
      ]
     },
     "execution_count": 368,
     "metadata": {},
     "output_type": "execute_result"
    }
   ],
   "source": [
    "XT = ExtraTreesClassifier(n_estimators=190, min_samples_split=5, min_samples_leaf=0.01, criterion=\"entropy\", n_jobs=-1, random_state=5)\n",
    "%time XT.fit(X_train_sparce, Y_train_sparce)"
   ]
  },
  {
   "cell_type": "code",
   "execution_count": 369,
   "metadata": {
    "collapsed": false
   },
   "outputs": [
    {
     "name": "stdout",
     "output_type": "stream",
     "text": [
      "Resultat de validation :  0.877478702092\n",
      "Resultat de validation :  0.873602468853\n"
     ]
    }
   ],
   "source": [
    "print \"Resultat de validation : \",validation(XT, X_test_sparce, Y_test_sparce)\n",
    "print \"Resultat de validation :  0.873602468853\""
   ]
  },
  {
   "cell_type": "markdown",
   "metadata": {},
   "source": [
    "<h3><span style=\"color: #3366ff;\">Modèle : SVM</span></h3>"
   ]
  },
  {
   "cell_type": "code",
   "execution_count": 370,
   "metadata": {
    "collapsed": false
   },
   "outputs": [
    {
     "name": "stdout",
     "output_type": "stream",
     "text": [
      "CPU times: user 12min 18s, sys: 5.44 s, total: 12min 23s\n",
      "Wall time: 12min 39s\n"
     ]
    },
    {
     "data": {
      "text/plain": [
       "SVC(C=9, cache_size=200, class_weight=None, coef0=0.0,\n",
       "  decision_function_shape=None, degree=3, gamma=0.5, kernel='rbf',\n",
       "  max_iter=-1, probability=True, random_state=1, shrinking=True, tol=0.001,\n",
       "  verbose=False)"
      ]
     },
     "execution_count": 370,
     "metadata": {},
     "output_type": "execute_result"
    }
   ],
   "source": [
    "#modele_SVC = grid_search.best_estimator_\n",
    "from sklearn.svm import LinearSVC, SVC\n",
    "modele_SVC = SVC(probability=True, random_state=1, C= 9, gamma= 0.5)\n",
    "%time modele_SVC.fit(X_train_sparce, Y_train_sparce)"
   ]
  },
  {
   "cell_type": "code",
   "execution_count": 371,
   "metadata": {
    "collapsed": false
   },
   "outputs": [
    {
     "name": "stdout",
     "output_type": "stream",
     "text": [
      "Resultat de validation :  0.863020153731\n",
      "best_params =  {'C': 9, 'gamma': 0.5}   0.863145608118  [1, 1, 2, 0, 0, 0]orders  Wall time: 3h 27min 27s\n"
     ]
    }
   ],
   "source": [
    "print \"Resultat de validation : \", validation(modele_SVC, X_test_sparce, Y_test_sparce)\n",
    "print \"best_params =  {'C': 9, 'gamma': 0.5}   0.863145608118  [1, 1, 2, 0, 0, 0]orders  Wall time: 3h 27min 27s\""
   ]
  },
  {
   "cell_type": "markdown",
   "metadata": {},
   "source": [
    "<h3><span style=\"color: #3366ff;\">KNeighborsClassifier</span></h3>"
   ]
  },
  {
   "cell_type": "code",
   "execution_count": 372,
   "metadata": {
    "collapsed": false
   },
   "outputs": [
    {
     "data": {
      "text/plain": [
       "KNeighborsClassifier(algorithm='auto', leaf_size=30, metric='minkowski',\n",
       "           metric_params=None, n_jobs=-1, n_neighbors=15, p=2,\n",
       "           weights='distance')"
      ]
     },
     "execution_count": 372,
     "metadata": {},
     "output_type": "execute_result"
    }
   ],
   "source": [
    "from sklearn.neighbors import KNeighborsClassifier\n",
    "modele_KN = KNeighborsClassifier(n_neighbors=15, n_jobs=-1, weights='distance')\n",
    "modele_KN.fit(X_train_sparce, Y_train_sparce)"
   ]
  },
  {
   "cell_type": "code",
   "execution_count": 373,
   "metadata": {
    "collapsed": false
   },
   "outputs": [
    {
     "name": "stdout",
     "output_type": "stream",
     "text": [
      "Resultat de validation :  0.834816386746\n",
      "CPU times: user 6.62 s, sys: 18.6 s, total: 25.2 s\n",
      "Wall time: 1min 8s\n",
      "\n",
      "Resultat de validation :  0.83616313541   n_neighbors=15, n_jobs=-1, weights='distance'\n"
     ]
    }
   ],
   "source": [
    "%time print \"Resultat de validation : \",validation(modele_KN, X_test_sparce, Y_test_sparce)\n",
    "print \"\\nResultat de validation :  0.83616313541   n_neighbors=15, n_jobs=-1, weights='distance'\""
   ]
  },
  {
   "cell_type": "markdown",
   "metadata": {},
   "source": [
    "# Sparse Soft Voting"
   ]
  },
  {
   "cell_type": "code",
   "execution_count": 399,
   "metadata": {
    "collapsed": false
   },
   "outputs": [
    {
     "name": "stdout",
     "output_type": "stream",
     "text": [
      "CPU times: user 25min 24s, sys: 8.43 s, total: 25min 32s\n",
      "Wall time: 20min 48s\n"
     ]
    }
   ],
   "source": [
    "from sklearn.ensemble import VotingClassifier\n",
    "\n",
    "#modele_LR = linear_model.LogisticRegression(C=2.602, n_jobs=-1, intercept_scaling=2.21, random_state=1, solver='newton-cg')\n",
    "#modele_NB = naive_bayes.BernoulliNB(alpha=0.045)\n",
    "#XT = ExtraTreesClassifier(n_estimators=190, min_samples_split=5, min_samples_leaf=0.01, criterion=\"entropy\", n_jobs=-1, random_state=5)\n",
    "#modele_SVC = SVC(probability=True, random_state=1, C= 9, gamma= 0.5)\n",
    "#modele_KN = KNeighborsClassifier(n_neighbors=15, n_jobs=-1, weights='distance')\n",
    "\n",
    "#, ('XT', XT)\n",
    "\n",
    "\n",
    "sclf = VotingClassifier(estimators=[('NB', modele_NB), ('LR', modele_LR), ('SVC', modele_SVC), ('XT', XT)], voting='soft', \n",
    "                        weights=[1,10.1111,24,16])\n",
    "\n",
    "%time sclf = sclf.fit(X_train_all, Y)"
   ]
  },
  {
   "cell_type": "markdown",
   "metadata": {
    "collapsed": true
   },
   "source": [
    "\n",
    "    LR   0.8637510862      15.1111\n",
    "    NB   0.838180464321    1\n",
    "    XT   0.873602468853    19\n",
    "    SVM  0.858805137762    10\n",
    "\n",
    "    KN   0.83616313541"
   ]
  },
  {
   "cell_type": "code",
   "execution_count": 397,
   "metadata": {
    "collapsed": false
   },
   "outputs": [
    {
     "name": "stdout",
     "output_type": "stream",
     "text": [
      "Resultat de validation =  0.881671784498\n",
      "\n",
      "\n",
      "Resultat de validation =  0.881645659809  weights=[1,10.1111,23.5,16]  \n",
      "RESOURCE seuil= 1 | MGR_ID seuil= 1 | goodVar | \n",
      "Wall time: 12min 7s\n"
     ]
    }
   ],
   "source": [
    "print \"Resultat de validation = \",validation(sclf, X_test_sparce, Y_test_sparce)\n",
    "print \"\\n\\nResultat de validation = \",0.881645659809,\" weights=[1,10.1111,24,16] \",\"\\nRESOURCE seuil= 1 | MGR_ID seuil= 1 | goodVar | \\nWall time: 12min 7s\""
   ]
  },
  {
   "cell_type": "markdown",
   "metadata": {},
   "source": [
    "# StackingClassifier"
   ]
  },
  {
   "cell_type": "code",
   "execution_count": null,
   "metadata": {
    "collapsed": true
   },
   "outputs": [],
   "source": [
    "#modele_LR = linear_model.LogisticRegression(C=2.602, n_jobs=-1, intercept_scaling=2.21, random_state=1, solver='newton-cg')\n",
    "#modele_NB = naive_bayes.BernoulliNB(alpha=0.045)\n",
    "#XT = ExtraTreesClassifier(n_estimators=190, min_samples_split=5, min_samples_leaf=0.01, criterion=\"entropy\", n_jobs=-1, random_state=5)\n",
    "#modele_SVC = SVC(probability=True, random_state=1, C= 9, gamma= 0.5)\n",
    "#modele_KN = KNeighborsClassifier(n_neighbors=15, n_jobs=-1, weights='distance')\n"
   ]
  },
  {
   "cell_type": "code",
   "execution_count": 381,
   "metadata": {
    "collapsed": false
   },
   "outputs": [
    {
     "name": "stdout",
     "output_type": "stream",
     "text": [
      "CPU times: user 19min 1s, sys: 10.6 s, total: 19min 12s\n",
      "Wall time: 16min 15s\n"
     ]
    }
   ],
   "source": [
    "lr = linear_model.LogisticRegression(C=2, intercept_scaling=1, random_state=1, n_jobs=-1)\n",
    "stksclf = StackingClassifier(classifiers=[modele_LR, modele_NB, modele_SVC, XT], \n",
    "                          meta_classifier=lr, use_probas=True)\n",
    "%time stksclf = stksclf.fit(X_train_sparce, Y_train_sparce)"
   ]
  },
  {
   "cell_type": "code",
   "execution_count": 382,
   "metadata": {
    "collapsed": false
   },
   "outputs": [
    {
     "name": "stdout",
     "output_type": "stream",
     "text": [
      "Resultat de validation =  0.877274175116\n",
      "0.870534005404\n"
     ]
    }
   ],
   "source": [
    "print \"Resultat de validation = \",validation(stksclf, X_test_sparce, Y_test_sparce)\n",
    "print \"0.870534005404\""
   ]
  },
  {
   "cell_type": "markdown",
   "metadata": {},
   "source": [
    "# Submit Num"
   ]
  },
  {
   "cell_type": "code",
   "execution_count": 400,
   "metadata": {
    "collapsed": true
   },
   "outputs": [],
   "source": [
    "preds = sclf.predict_proba(X_test_all)[:,1]\n",
    "submissions = pd.DataFrame(data=preds, columns=[\"ACTION\"], index = test.index)\n",
    "submissions.to_csv(\"STsampleSubmission.csv\")\n",
    "\n",
    "\"\"\"0.89803\"\"\""
   ]
  },
  {
   "cell_type": "code",
   "execution_count": 391,
   "metadata": {
    "collapsed": true
   },
   "outputs": [],
   "source": [
    "preds = stksclf.predict_proba(X_test_all)[:,1]\n",
    "submissions = pd.DataFrame(data=preds, columns=[\"ACTION\"], index = test.index)\n",
    "submissions.to_csv(\"F2sampleSubmission.csv\")"
   ]
  },
  {
   "cell_type": "markdown",
   "metadata": {
    "collapsed": true
   },
   "source": [
    "<br/><br/><br/>\n",
    "# DataFrame probabilité"
   ]
  },
  {
   "cell_type": "code",
   "execution_count": 347,
   "metadata": {
    "collapsed": true
   },
   "outputs": [],
   "source": [
    "pred_train=pd.DataFrame(columns=['LR','NB','SVC','XT','KN'])\n",
    "pred_train['LR']=modele_LR.predict_proba(X_train_all)[:,1]\n",
    "pred_train['NB']=modele_NB.predict_proba(X_train_all)[:,1]\n",
    "pred_train['SVC']=modele_SVC.predict_proba(X_train_all)[:,1]\n",
    "pred_train['XT']=XT.predict_proba(X_train_all)[:,1]\n",
    "#pred_train['KN']=modele_KN.predict_proba(X_train_all)[:,1]"
   ]
  },
  {
   "cell_type": "code",
   "execution_count": 348,
   "metadata": {
    "collapsed": true
   },
   "outputs": [],
   "source": [
    "pred_train.to_csv(\"TR_num.csv\")"
   ]
  },
  {
   "cell_type": "code",
   "execution_count": 349,
   "metadata": {
    "collapsed": true
   },
   "outputs": [],
   "source": [
    "pred_test=pd.DataFrame(columns=['LR','NB','SVC','XT','KN'])\n",
    "pred_test['LR']=modele_LR.predict_proba(X_test_all)[:,1]\n",
    "pred_test['NB']=modele_NB.predict_proba(X_test_all)[:,1]\n",
    "pred_test['SVC']=modele_SVC.predict_proba(X_test_all)[:,1]\n",
    "pred_test['XT']=XT.predict_proba(X_test_all)[:,1]\n",
    "#pred_test['KN']=modele_KN.predict_proba(X_test_all)[:,1]"
   ]
  },
  {
   "cell_type": "code",
   "execution_count": 350,
   "metadata": {
    "collapsed": true
   },
   "outputs": [],
   "source": [
    "pred_test.to_csv(\"TS_num.csv\")"
   ]
  },
  {
   "cell_type": "code",
   "execution_count": 401,
   "metadata": {
    "collapsed": true
   },
   "outputs": [],
   "source": [
    "\n",
    "\n",
    "pred_vot_train=pd.DataFrame(columns=['Voting'])\n",
    "pred_vot_test=pd.DataFrame(columns=['Voting'])\n",
    "\n",
    "pred_vot_train['Voting'] = sclf.predict_proba(X_train_all)[:,1]\n",
    "pred_vot_test['Voting'] = sclf.predict_proba(X_test_all)[:,1]\n",
    "pred_vot_test.to_csv(\"TS_vot_num.csv\")\n",
    "pred_vot_train.to_csv(\"TR_vot_num.csv\")\n"
   ]
  },
  {
   "cell_type": "code",
   "execution_count": null,
   "metadata": {
    "collapsed": true
   },
   "outputs": [],
   "source": []
  },
  {
   "cell_type": "code",
   "execution_count": 450,
   "metadata": {
    "collapsed": true
   },
   "outputs": [],
   "source": [
    "TR_vot_num = pd.read_csv('TR_vot_num.csv',  index_col=0)\n",
    "TS_vot_num = pd.read_csv('TS_vot_num.csv',  index_col=0)"
   ]
  },
  {
   "cell_type": "code",
   "execution_count": 484,
   "metadata": {
    "collapsed": true
   },
   "outputs": [],
   "source": [
    "TS = pd.read_csv(\"CV.csv\",  index_col=0)\n",
    "\n",
    "TR = pd.read_csv(\"TR.csv\",  index_col=0)"
   ]
  },
  {
   "cell_type": "code",
   "execution_count": 485,
   "metadata": {
    "collapsed": false
   },
   "outputs": [],
   "source": [
    "pre_tr = pd.concat([TR_vot_num, TR], axis=1)\n",
    "pre_ts = pd.concat([TS_vot_num, TS], axis=1)"
   ]
  },
  {
   "cell_type": "code",
   "execution_count": null,
   "metadata": {
    "collapsed": false
   },
   "outputs": [],
   "source": []
  },
  {
   "cell_type": "code",
   "execution_count": 489,
   "metadata": {
    "collapsed": false
   },
   "outputs": [
    {
     "data": {
      "text/html": [
       "<div>\n",
       "<table border=\"1\" class=\"dataframe\">\n",
       "  <thead>\n",
       "    <tr style=\"text-align: right;\">\n",
       "      <th></th>\n",
       "      <th>Voting</th>\n",
       "      <th>ABCn</th>\n",
       "      <th>RF</th>\n",
       "      <th>ABC</th>\n",
       "      <th>XT</th>\n",
       "      <th>GB</th>\n",
       "    </tr>\n",
       "  </thead>\n",
       "  <tbody>\n",
       "    <tr>\n",
       "      <th>0</th>\n",
       "      <td>0.989890</td>\n",
       "      <td>0.984622</td>\n",
       "      <td>0.997622</td>\n",
       "      <td>0.928572</td>\n",
       "      <td>0.998567</td>\n",
       "      <td>0.999992</td>\n",
       "    </tr>\n",
       "    <tr>\n",
       "      <th>1</th>\n",
       "      <td>0.988036</td>\n",
       "      <td>0.963648</td>\n",
       "      <td>0.955832</td>\n",
       "      <td>0.887020</td>\n",
       "      <td>0.966326</td>\n",
       "      <td>0.999962</td>\n",
       "    </tr>\n",
       "    <tr>\n",
       "      <th>2</th>\n",
       "      <td>0.977956</td>\n",
       "      <td>0.897310</td>\n",
       "      <td>0.908988</td>\n",
       "      <td>0.799879</td>\n",
       "      <td>0.988525</td>\n",
       "      <td>0.999970</td>\n",
       "    </tr>\n",
       "    <tr>\n",
       "      <th>3</th>\n",
       "      <td>0.989914</td>\n",
       "      <td>0.975305</td>\n",
       "      <td>0.980117</td>\n",
       "      <td>0.890264</td>\n",
       "      <td>0.987551</td>\n",
       "      <td>0.999871</td>\n",
       "    </tr>\n",
       "    <tr>\n",
       "      <th>4</th>\n",
       "      <td>0.980070</td>\n",
       "      <td>0.952147</td>\n",
       "      <td>0.975461</td>\n",
       "      <td>0.869679</td>\n",
       "      <td>0.947103</td>\n",
       "      <td>0.999998</td>\n",
       "    </tr>\n",
       "  </tbody>\n",
       "</table>\n",
       "</div>"
      ],
      "text/plain": [
       "     Voting      ABCn        RF       ABC        XT        GB\n",
       "0  0.989890  0.984622  0.997622  0.928572  0.998567  0.999992\n",
       "1  0.988036  0.963648  0.955832  0.887020  0.966326  0.999962\n",
       "2  0.977956  0.897310  0.908988  0.799879  0.988525  0.999970\n",
       "3  0.989914  0.975305  0.980117  0.890264  0.987551  0.999871\n",
       "4  0.980070  0.952147  0.975461  0.869679  0.947103  0.999998"
      ]
     },
     "execution_count": 489,
     "metadata": {},
     "output_type": "execute_result"
    }
   ],
   "source": [
    "pre_tr.head()"
   ]
  },
  {
   "cell_type": "code",
   "execution_count": 490,
   "metadata": {
    "collapsed": false
   },
   "outputs": [],
   "source": [
    "from sklearn.cross_validation import train_test_split\n",
    "\n",
    "X_tr, X_ts, Y_tr, Y_ts = train_test_split(pre_tr, Y, test_size=0.25,random_state=1)"
   ]
  },
  {
   "cell_type": "code",
   "execution_count": 652,
   "metadata": {
    "collapsed": true
   },
   "outputs": [],
   "source": [
    "LogReg = linear_model.LogisticRegression(n_jobs=-1, random_state=1, C=2, intercept_scaling=1)"
   ]
  },
  {
   "cell_type": "code",
   "execution_count": 653,
   "metadata": {
    "collapsed": false
   },
   "outputs": [],
   "source": [
    "#LogReg = LogReg.fit(TR_vot_num,Y)\n",
    "LogReg = LogReg.fit(X_tr,Y_tr)"
   ]
  },
  {
   "cell_type": "code",
   "execution_count": 654,
   "metadata": {
    "collapsed": false
   },
   "outputs": [
    {
     "name": "stdout",
     "output_type": "stream",
     "text": [
      "Apprentissage :  0.999988699928\n",
      "Validation :  0.994113003948\n"
     ]
    }
   ],
   "source": [
    "print \"Apprentissage : \",validation(LogReg, X_tr, Y_tr)\n",
    "print \"Validation : \",validation(LogReg, X_ts, Y_ts)"
   ]
  },
  {
   "cell_type": "code",
   "execution_count": 655,
   "metadata": {
    "collapsed": true
   },
   "outputs": [],
   "source": [
    "LogReg = LogReg.fit(pre_tr,Y)\n",
    "pred_LogReg = LogReg.predict_proba(pre_ts)[:,1]"
   ]
  },
  {
   "cell_type": "code",
   "execution_count": 656,
   "metadata": {
    "collapsed": true
   },
   "outputs": [],
   "source": [
    "submissions = pd.DataFrame(data=pred_LogReg, columns=[\"ACTION\"], index = test.index)\n",
    "submissions.to_csv(\"logSubmission.csv\")"
   ]
  },
  {
   "cell_type": "code",
   "execution_count": null,
   "metadata": {
    "collapsed": true
   },
   "outputs": [],
   "source": []
  },
  {
   "cell_type": "code",
   "execution_count": null,
   "metadata": {
    "collapsed": true
   },
   "outputs": [],
   "source": []
  },
  {
   "cell_type": "code",
   "execution_count": 346,
   "metadata": {
    "collapsed": false
   },
   "outputs": [
    {
     "ename": "MaybeEncodingError",
     "evalue": "Error sending result: '[array([[ 8.,  8.,  8., ...,  8.,  8.,  8.],\n       [ 8.,  8.,  8., ...,  8.,  8.,  8.],\n       [ 8.,  8.,  8., ...,  8.,  8.,  8.],\n       ..., \n       [ 8.,  8.,  8., ...,  8.,  8.,  8.],\n       [ 6.,  8.,  8., ...,  8.,  6.,  4.],\n       [ 8.,  8.,  4., ...,  8.,  8.,  8.]])]'. Reason: 'SystemError('error return without exception set',)'",
     "output_type": "error",
     "traceback": [
      "\u001b[0;31m---------------------------------------------------------------------------\u001b[0m",
      "\u001b[0;31mMaybeEncodingError\u001b[0m                        Traceback (most recent call last)",
      "\u001b[0;32m<ipython-input-346-2b0fd7f8dd60>\u001b[0m in \u001b[0;36m<module>\u001b[0;34m()\u001b[0m\n\u001b[0;32m----> 1\u001b[0;31m \u001b[0mkn\u001b[0m \u001b[0;34m=\u001b[0m \u001b[0mmodele_KN\u001b[0m\u001b[0;34m.\u001b[0m\u001b[0mpredict_proba\u001b[0m\u001b[0;34m(\u001b[0m\u001b[0mX_test_all\u001b[0m\u001b[0;34m)\u001b[0m\u001b[0;34m[\u001b[0m\u001b[0;34m:\u001b[0m\u001b[0;34m,\u001b[0m\u001b[0;36m1\u001b[0m\u001b[0;34m]\u001b[0m\u001b[0;34m\u001b[0m\u001b[0m\n\u001b[0m",
      "\u001b[0;32m/Users/salaheddine/anaconda/lib/python2.7/site-packages/sklearn/neighbors/classification.pyc\u001b[0m in \u001b[0;36mpredict_proba\u001b[0;34m(self, X)\u001b[0m\n\u001b[1;32m    190\u001b[0m         \u001b[0mX\u001b[0m \u001b[0;34m=\u001b[0m \u001b[0mcheck_array\u001b[0m\u001b[0;34m(\u001b[0m\u001b[0mX\u001b[0m\u001b[0;34m,\u001b[0m \u001b[0maccept_sparse\u001b[0m\u001b[0;34m=\u001b[0m\u001b[0;34m'csr'\u001b[0m\u001b[0;34m)\u001b[0m\u001b[0;34m\u001b[0m\u001b[0m\n\u001b[1;32m    191\u001b[0m \u001b[0;34m\u001b[0m\u001b[0m\n\u001b[0;32m--> 192\u001b[0;31m         \u001b[0mneigh_dist\u001b[0m\u001b[0;34m,\u001b[0m \u001b[0mneigh_ind\u001b[0m \u001b[0;34m=\u001b[0m \u001b[0mself\u001b[0m\u001b[0;34m.\u001b[0m\u001b[0mkneighbors\u001b[0m\u001b[0;34m(\u001b[0m\u001b[0mX\u001b[0m\u001b[0;34m)\u001b[0m\u001b[0;34m\u001b[0m\u001b[0m\n\u001b[0m\u001b[1;32m    193\u001b[0m \u001b[0;34m\u001b[0m\u001b[0m\n\u001b[1;32m    194\u001b[0m         \u001b[0mclasses_\u001b[0m \u001b[0;34m=\u001b[0m \u001b[0mself\u001b[0m\u001b[0;34m.\u001b[0m\u001b[0mclasses_\u001b[0m\u001b[0;34m\u001b[0m\u001b[0m\n",
      "\u001b[0;32m/Users/salaheddine/anaconda/lib/python2.7/site-packages/sklearn/neighbors/base.pyc\u001b[0m in \u001b[0;36mkneighbors\u001b[0;34m(self, X, n_neighbors, return_distance)\u001b[0m\n\u001b[1;32m    369\u001b[0m             \u001b[0;32mif\u001b[0m \u001b[0mself\u001b[0m\u001b[0;34m.\u001b[0m\u001b[0meffective_metric_\u001b[0m \u001b[0;34m==\u001b[0m \u001b[0;34m'euclidean'\u001b[0m\u001b[0;34m:\u001b[0m\u001b[0;34m\u001b[0m\u001b[0m\n\u001b[1;32m    370\u001b[0m                 dist = pairwise_distances(X, self._fit_X, 'euclidean',\n\u001b[0;32m--> 371\u001b[0;31m                                           n_jobs=n_jobs, squared=True)\n\u001b[0m\u001b[1;32m    372\u001b[0m             \u001b[0;32melse\u001b[0m\u001b[0;34m:\u001b[0m\u001b[0;34m\u001b[0m\u001b[0m\n\u001b[1;32m    373\u001b[0m                 dist = pairwise_distances(\n",
      "\u001b[0;32m/Users/salaheddine/anaconda/lib/python2.7/site-packages/sklearn/metrics/pairwise.pyc\u001b[0m in \u001b[0;36mpairwise_distances\u001b[0;34m(X, Y, metric, n_jobs, **kwds)\u001b[0m\n\u001b[1;32m   1205\u001b[0m         \u001b[0mfunc\u001b[0m \u001b[0;34m=\u001b[0m \u001b[0mpartial\u001b[0m\u001b[0;34m(\u001b[0m\u001b[0mdistance\u001b[0m\u001b[0;34m.\u001b[0m\u001b[0mcdist\u001b[0m\u001b[0;34m,\u001b[0m \u001b[0mmetric\u001b[0m\u001b[0;34m=\u001b[0m\u001b[0mmetric\u001b[0m\u001b[0;34m,\u001b[0m \u001b[0;34m**\u001b[0m\u001b[0mkwds\u001b[0m\u001b[0;34m)\u001b[0m\u001b[0;34m\u001b[0m\u001b[0m\n\u001b[1;32m   1206\u001b[0m \u001b[0;34m\u001b[0m\u001b[0m\n\u001b[0;32m-> 1207\u001b[0;31m     \u001b[0;32mreturn\u001b[0m \u001b[0m_parallel_pairwise\u001b[0m\u001b[0;34m(\u001b[0m\u001b[0mX\u001b[0m\u001b[0;34m,\u001b[0m \u001b[0mY\u001b[0m\u001b[0;34m,\u001b[0m \u001b[0mfunc\u001b[0m\u001b[0;34m,\u001b[0m \u001b[0mn_jobs\u001b[0m\u001b[0;34m,\u001b[0m \u001b[0;34m**\u001b[0m\u001b[0mkwds\u001b[0m\u001b[0;34m)\u001b[0m\u001b[0;34m\u001b[0m\u001b[0m\n\u001b[0m\u001b[1;32m   1208\u001b[0m \u001b[0;34m\u001b[0m\u001b[0m\n\u001b[1;32m   1209\u001b[0m \u001b[0;34m\u001b[0m\u001b[0m\n",
      "\u001b[0;32m/Users/salaheddine/anaconda/lib/python2.7/site-packages/sklearn/metrics/pairwise.pyc\u001b[0m in \u001b[0;36m_parallel_pairwise\u001b[0;34m(X, Y, func, n_jobs, **kwds)\u001b[0m\n\u001b[1;32m   1058\u001b[0m     ret = Parallel(n_jobs=n_jobs, verbose=0)(\n\u001b[1;32m   1059\u001b[0m         \u001b[0mfd\u001b[0m\u001b[0;34m(\u001b[0m\u001b[0mX\u001b[0m\u001b[0;34m,\u001b[0m \u001b[0mY\u001b[0m\u001b[0;34m[\u001b[0m\u001b[0ms\u001b[0m\u001b[0;34m]\u001b[0m\u001b[0;34m,\u001b[0m \u001b[0;34m**\u001b[0m\u001b[0mkwds\u001b[0m\u001b[0;34m)\u001b[0m\u001b[0;34m\u001b[0m\u001b[0m\n\u001b[0;32m-> 1060\u001b[0;31m         for s in gen_even_slices(Y.shape[0], n_jobs))\n\u001b[0m\u001b[1;32m   1061\u001b[0m \u001b[0;34m\u001b[0m\u001b[0m\n\u001b[1;32m   1062\u001b[0m     \u001b[0;32mreturn\u001b[0m \u001b[0mnp\u001b[0m\u001b[0;34m.\u001b[0m\u001b[0mhstack\u001b[0m\u001b[0;34m(\u001b[0m\u001b[0mret\u001b[0m\u001b[0;34m)\u001b[0m\u001b[0;34m\u001b[0m\u001b[0m\n",
      "\u001b[0;32m/Users/salaheddine/anaconda/lib/python2.7/site-packages/sklearn/externals/joblib/parallel.pyc\u001b[0m in \u001b[0;36m__call__\u001b[0;34m(self, iterable)\u001b[0m\n\u001b[1;32m    810\u001b[0m                 \u001b[0;31m# consumption.\u001b[0m\u001b[0;34m\u001b[0m\u001b[0;34m\u001b[0m\u001b[0m\n\u001b[1;32m    811\u001b[0m                 \u001b[0mself\u001b[0m\u001b[0;34m.\u001b[0m\u001b[0m_iterating\u001b[0m \u001b[0;34m=\u001b[0m \u001b[0mFalse\u001b[0m\u001b[0;34m\u001b[0m\u001b[0m\n\u001b[0;32m--> 812\u001b[0;31m             \u001b[0mself\u001b[0m\u001b[0;34m.\u001b[0m\u001b[0mretrieve\u001b[0m\u001b[0;34m(\u001b[0m\u001b[0;34m)\u001b[0m\u001b[0;34m\u001b[0m\u001b[0m\n\u001b[0m\u001b[1;32m    813\u001b[0m             \u001b[0;31m# Make sure that we get a last message telling us we are done\u001b[0m\u001b[0;34m\u001b[0m\u001b[0;34m\u001b[0m\u001b[0m\n\u001b[1;32m    814\u001b[0m             \u001b[0melapsed_time\u001b[0m \u001b[0;34m=\u001b[0m \u001b[0mtime\u001b[0m\u001b[0;34m.\u001b[0m\u001b[0mtime\u001b[0m\u001b[0;34m(\u001b[0m\u001b[0;34m)\u001b[0m \u001b[0;34m-\u001b[0m \u001b[0mself\u001b[0m\u001b[0;34m.\u001b[0m\u001b[0m_start_time\u001b[0m\u001b[0;34m\u001b[0m\u001b[0m\n",
      "\u001b[0;32m/Users/salaheddine/anaconda/lib/python2.7/site-packages/sklearn/externals/joblib/parallel.pyc\u001b[0m in \u001b[0;36mretrieve\u001b[0;34m(self)\u001b[0m\n\u001b[1;32m    729\u001b[0m                 \u001b[0mjob\u001b[0m \u001b[0;34m=\u001b[0m \u001b[0mself\u001b[0m\u001b[0;34m.\u001b[0m\u001b[0m_jobs\u001b[0m\u001b[0;34m.\u001b[0m\u001b[0mpop\u001b[0m\u001b[0;34m(\u001b[0m\u001b[0;36m0\u001b[0m\u001b[0;34m)\u001b[0m\u001b[0;34m\u001b[0m\u001b[0m\n\u001b[1;32m    730\u001b[0m             \u001b[0;32mtry\u001b[0m\u001b[0;34m:\u001b[0m\u001b[0;34m\u001b[0m\u001b[0m\n\u001b[0;32m--> 731\u001b[0;31m                 \u001b[0mself\u001b[0m\u001b[0;34m.\u001b[0m\u001b[0m_output\u001b[0m\u001b[0;34m.\u001b[0m\u001b[0mextend\u001b[0m\u001b[0;34m(\u001b[0m\u001b[0mjob\u001b[0m\u001b[0;34m.\u001b[0m\u001b[0mget\u001b[0m\u001b[0;34m(\u001b[0m\u001b[0;34m)\u001b[0m\u001b[0;34m)\u001b[0m\u001b[0;34m\u001b[0m\u001b[0m\n\u001b[0m\u001b[1;32m    732\u001b[0m             \u001b[0;32mexcept\u001b[0m \u001b[0mtuple\u001b[0m\u001b[0;34m(\u001b[0m\u001b[0mself\u001b[0m\u001b[0;34m.\u001b[0m\u001b[0mexceptions\u001b[0m\u001b[0;34m)\u001b[0m \u001b[0;32mas\u001b[0m \u001b[0mexception\u001b[0m\u001b[0;34m:\u001b[0m\u001b[0;34m\u001b[0m\u001b[0m\n\u001b[1;32m    733\u001b[0m                 \u001b[0;31m# Stop dispatching any new job in the async callback thread\u001b[0m\u001b[0;34m\u001b[0m\u001b[0;34m\u001b[0m\u001b[0m\n",
      "\u001b[0;32m/Users/salaheddine/anaconda/lib/python2.7/multiprocessing/pool.pyc\u001b[0m in \u001b[0;36mget\u001b[0;34m(self, timeout)\u001b[0m\n\u001b[1;32m    565\u001b[0m             \u001b[0;32mreturn\u001b[0m \u001b[0mself\u001b[0m\u001b[0;34m.\u001b[0m\u001b[0m_value\u001b[0m\u001b[0;34m\u001b[0m\u001b[0m\n\u001b[1;32m    566\u001b[0m         \u001b[0;32melse\u001b[0m\u001b[0;34m:\u001b[0m\u001b[0;34m\u001b[0m\u001b[0m\n\u001b[0;32m--> 567\u001b[0;31m             \u001b[0;32mraise\u001b[0m \u001b[0mself\u001b[0m\u001b[0;34m.\u001b[0m\u001b[0m_value\u001b[0m\u001b[0;34m\u001b[0m\u001b[0m\n\u001b[0m\u001b[1;32m    568\u001b[0m \u001b[0;34m\u001b[0m\u001b[0m\n\u001b[1;32m    569\u001b[0m     \u001b[0;32mdef\u001b[0m \u001b[0m_set\u001b[0m\u001b[0;34m(\u001b[0m\u001b[0mself\u001b[0m\u001b[0;34m,\u001b[0m \u001b[0mi\u001b[0m\u001b[0;34m,\u001b[0m \u001b[0mobj\u001b[0m\u001b[0;34m)\u001b[0m\u001b[0;34m:\u001b[0m\u001b[0;34m\u001b[0m\u001b[0m\n",
      "\u001b[0;31mMaybeEncodingError\u001b[0m: Error sending result: '[array([[ 8.,  8.,  8., ...,  8.,  8.,  8.],\n       [ 8.,  8.,  8., ...,  8.,  8.,  8.],\n       [ 8.,  8.,  8., ...,  8.,  8.,  8.],\n       ..., \n       [ 8.,  8.,  8., ...,  8.,  8.,  8.],\n       [ 6.,  8.,  8., ...,  8.,  6.,  4.],\n       [ 8.,  8.,  4., ...,  8.,  8.,  8.]])]'. Reason: 'SystemError('error return without exception set',)'"
     ]
    }
   ],
   "source": [
    "kn = modele_KN.predict_proba(X_test_all)[:,1]"
   ]
  }
 ],
 "metadata": {
  "kernelspec": {
   "display_name": "Python 2",
   "language": "python",
   "name": "python2"
  },
  "language_info": {
   "codemirror_mode": {
    "name": "ipython",
    "version": 2
   },
   "file_extension": ".py",
   "mimetype": "text/x-python",
   "name": "python",
   "nbconvert_exporter": "python",
   "pygments_lexer": "ipython2",
   "version": "2.7.6"
  }
 },
 "nbformat": 4,
 "nbformat_minor": 0
}
